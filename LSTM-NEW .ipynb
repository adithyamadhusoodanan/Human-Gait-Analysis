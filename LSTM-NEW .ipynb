{
 "cells": [
  {
   "cell_type": "code",
   "execution_count": 88,
   "metadata": {},
   "outputs": [],
   "source": [
    "from sklearn.metrics import classification_report, confusion_matrix\n",
    "from sklearn.svm import SVC\n",
    "from sklearn.model_selection import train_test_split\n",
    "import pandas as pd\n",
    "import numpy as np\n",
    "import matplotlib.pyplot as plt"
   ]
  },
  {
   "cell_type": "code",
   "execution_count": 89,
   "metadata": {},
   "outputs": [],
   "source": [
    "from tensorflow import keras\n",
    "from tensorflow.keras import layers"
   ]
  },
  {
   "cell_type": "code",
   "execution_count": 90,
   "metadata": {},
   "outputs": [],
   "source": [
    "from keras.models import Sequential\n",
    "from keras.layers import Dense\n",
    "from keras.layers import Flatten\n",
    "from keras.layers import Dropout\n",
    "from keras.layers import LSTM\n",
    "from keras.utils import to_categorical"
   ]
  },
  {
   "cell_type": "code",
   "execution_count": 91,
   "metadata": {},
   "outputs": [],
   "source": [
    "gait = pd.read_csv(\"gaitFull.csv\")"
   ]
  },
  {
   "cell_type": "code",
   "execution_count": 92,
   "metadata": {},
   "outputs": [
    {
     "data": {
      "text/html": [
       "<div>\n",
       "<style scoped>\n",
       "    .dataframe tbody tr th:only-of-type {\n",
       "        vertical-align: middle;\n",
       "    }\n",
       "\n",
       "    .dataframe tbody tr th {\n",
       "        vertical-align: top;\n",
       "    }\n",
       "\n",
       "    .dataframe thead th {\n",
       "        text-align: right;\n",
       "    }\n",
       "</style>\n",
       "<table border=\"1\" class=\"dataframe\">\n",
       "  <thead>\n",
       "    <tr style=\"text-align: right;\">\n",
       "      <th></th>\n",
       "      <th>P1</th>\n",
       "      <th>P2</th>\n",
       "      <th>P3</th>\n",
       "      <th>P4</th>\n",
       "      <th>x1</th>\n",
       "      <th>y1</th>\n",
       "      <th>z1</th>\n",
       "      <th>x2</th>\n",
       "      <th>y2</th>\n",
       "      <th>z2</th>\n",
       "      <th>r</th>\n",
       "      <th>label</th>\n",
       "    </tr>\n",
       "  </thead>\n",
       "  <tbody>\n",
       "    <tr>\n",
       "      <td>0</td>\n",
       "      <td>0</td>\n",
       "      <td>0</td>\n",
       "      <td>1</td>\n",
       "      <td>1</td>\n",
       "      <td>-0.29</td>\n",
       "      <td>-9.70</td>\n",
       "      <td>3.97</td>\n",
       "      <td>0.08</td>\n",
       "      <td>-9.31</td>\n",
       "      <td>0.27</td>\n",
       "      <td>161</td>\n",
       "      <td>0</td>\n",
       "    </tr>\n",
       "    <tr>\n",
       "      <td>1</td>\n",
       "      <td>0</td>\n",
       "      <td>0</td>\n",
       "      <td>1</td>\n",
       "      <td>1</td>\n",
       "      <td>0.05</td>\n",
       "      <td>-9.51</td>\n",
       "      <td>4.45</td>\n",
       "      <td>0.27</td>\n",
       "      <td>-9.05</td>\n",
       "      <td>-0.67</td>\n",
       "      <td>151</td>\n",
       "      <td>0</td>\n",
       "    </tr>\n",
       "    <tr>\n",
       "      <td>2</td>\n",
       "      <td>0</td>\n",
       "      <td>0</td>\n",
       "      <td>1</td>\n",
       "      <td>1</td>\n",
       "      <td>0.78</td>\n",
       "      <td>-9.48</td>\n",
       "      <td>6.54</td>\n",
       "      <td>1.96</td>\n",
       "      <td>-8.99</td>\n",
       "      <td>2.08</td>\n",
       "      <td>146</td>\n",
       "      <td>1</td>\n",
       "    </tr>\n",
       "    <tr>\n",
       "      <td>3</td>\n",
       "      <td>0</td>\n",
       "      <td>0</td>\n",
       "      <td>1</td>\n",
       "      <td>1</td>\n",
       "      <td>5.77</td>\n",
       "      <td>-6.85</td>\n",
       "      <td>3.06</td>\n",
       "      <td>-0.24</td>\n",
       "      <td>-8.95</td>\n",
       "      <td>6.86</td>\n",
       "      <td>144</td>\n",
       "      <td>1</td>\n",
       "    </tr>\n",
       "    <tr>\n",
       "      <td>4</td>\n",
       "      <td>0</td>\n",
       "      <td>0</td>\n",
       "      <td>1</td>\n",
       "      <td>1</td>\n",
       "      <td>0.45</td>\n",
       "      <td>-9.52</td>\n",
       "      <td>-0.36</td>\n",
       "      <td>0.39</td>\n",
       "      <td>-9.85</td>\n",
       "      <td>2.25</td>\n",
       "      <td>143</td>\n",
       "      <td>1</td>\n",
       "    </tr>\n",
       "    <tr>\n",
       "      <td>...</td>\n",
       "      <td>...</td>\n",
       "      <td>...</td>\n",
       "      <td>...</td>\n",
       "      <td>...</td>\n",
       "      <td>...</td>\n",
       "      <td>...</td>\n",
       "      <td>...</td>\n",
       "      <td>...</td>\n",
       "      <td>...</td>\n",
       "      <td>...</td>\n",
       "      <td>...</td>\n",
       "      <td>...</td>\n",
       "    </tr>\n",
       "    <tr>\n",
       "      <td>2371</td>\n",
       "      <td>1</td>\n",
       "      <td>1</td>\n",
       "      <td>0</td>\n",
       "      <td>0</td>\n",
       "      <td>-5.31</td>\n",
       "      <td>-10.97</td>\n",
       "      <td>-6.63</td>\n",
       "      <td>-1.89</td>\n",
       "      <td>-10.10</td>\n",
       "      <td>-3.29</td>\n",
       "      <td>288</td>\n",
       "      <td>5</td>\n",
       "    </tr>\n",
       "    <tr>\n",
       "      <td>2372</td>\n",
       "      <td>1</td>\n",
       "      <td>1</td>\n",
       "      <td>0</td>\n",
       "      <td>0</td>\n",
       "      <td>-0.86</td>\n",
       "      <td>-9.70</td>\n",
       "      <td>-1.71</td>\n",
       "      <td>-3.69</td>\n",
       "      <td>-9.92</td>\n",
       "      <td>-2.17</td>\n",
       "      <td>276</td>\n",
       "      <td>5</td>\n",
       "    </tr>\n",
       "    <tr>\n",
       "      <td>2373</td>\n",
       "      <td>1</td>\n",
       "      <td>1</td>\n",
       "      <td>0</td>\n",
       "      <td>0</td>\n",
       "      <td>-0.79</td>\n",
       "      <td>-10.07</td>\n",
       "      <td>-3.23</td>\n",
       "      <td>-1.73</td>\n",
       "      <td>-9.16</td>\n",
       "      <td>1.32</td>\n",
       "      <td>251</td>\n",
       "      <td>5</td>\n",
       "    </tr>\n",
       "    <tr>\n",
       "      <td>2374</td>\n",
       "      <td>1</td>\n",
       "      <td>1</td>\n",
       "      <td>0</td>\n",
       "      <td>0</td>\n",
       "      <td>0.31</td>\n",
       "      <td>-10.10</td>\n",
       "      <td>3.14</td>\n",
       "      <td>3.06</td>\n",
       "      <td>-8.72</td>\n",
       "      <td>-0.20</td>\n",
       "      <td>209</td>\n",
       "      <td>6</td>\n",
       "    </tr>\n",
       "    <tr>\n",
       "      <td>2375</td>\n",
       "      <td>1</td>\n",
       "      <td>1</td>\n",
       "      <td>0</td>\n",
       "      <td>0</td>\n",
       "      <td>-5.58</td>\n",
       "      <td>-12.75</td>\n",
       "      <td>-12.72</td>\n",
       "      <td>-5.73</td>\n",
       "      <td>-9.52</td>\n",
       "      <td>0.83</td>\n",
       "      <td>166</td>\n",
       "      <td>6</td>\n",
       "    </tr>\n",
       "  </tbody>\n",
       "</table>\n",
       "<p>2376 rows × 12 columns</p>\n",
       "</div>"
      ],
      "text/plain": [
       "      P1  P2  P3  P4    x1     y1     z1    x2     y2    z2    r  label\n",
       "0      0   0   1   1 -0.29  -9.70   3.97  0.08  -9.31  0.27  161      0\n",
       "1      0   0   1   1  0.05  -9.51   4.45  0.27  -9.05 -0.67  151      0\n",
       "2      0   0   1   1  0.78  -9.48   6.54  1.96  -8.99  2.08  146      1\n",
       "3      0   0   1   1  5.77  -6.85   3.06 -0.24  -8.95  6.86  144      1\n",
       "4      0   0   1   1  0.45  -9.52  -0.36  0.39  -9.85  2.25  143      1\n",
       "...   ..  ..  ..  ..   ...    ...    ...   ...    ...   ...  ...    ...\n",
       "2371   1   1   0   0 -5.31 -10.97  -6.63 -1.89 -10.10 -3.29  288      5\n",
       "2372   1   1   0   0 -0.86  -9.70  -1.71 -3.69  -9.92 -2.17  276      5\n",
       "2373   1   1   0   0 -0.79 -10.07  -3.23 -1.73  -9.16  1.32  251      5\n",
       "2374   1   1   0   0  0.31 -10.10   3.14  3.06  -8.72 -0.20  209      6\n",
       "2375   1   1   0   0 -5.58 -12.75 -12.72 -5.73  -9.52  0.83  166      6\n",
       "\n",
       "[2376 rows x 12 columns]"
      ]
     },
     "execution_count": 92,
     "metadata": {},
     "output_type": "execute_result"
    }
   ],
   "source": [
    "gait"
   ]
  },
  {
   "cell_type": "code",
   "execution_count": 93,
   "metadata": {},
   "outputs": [],
   "source": [
    "X = gait.drop('label',  axis=1)\n",
    "y = gait['label']"
   ]
  },
  {
   "cell_type": "code",
   "execution_count": 94,
   "metadata": {},
   "outputs": [],
   "source": [
    "X_train, X_test, y_train, y_test = train_test_split(X, y, test_size=0.20,random_state=42)"
   ]
  },
  {
   "cell_type": "code",
   "execution_count": 95,
   "metadata": {},
   "outputs": [],
   "source": [
    "X_train=np.array(X_train)\n",
    "X_test=np.array(X_test)\n",
    "y_train=np.array(y_train)\n",
    "y_test=np.array(y_test)"
   ]
  },
  {
   "cell_type": "code",
   "execution_count": 96,
   "metadata": {},
   "outputs": [],
   "source": [
    "y_train = to_categorical(y_train)\n",
    "test=y_test\n",
    "y_test = to_categorical(y_test)"
   ]
  },
  {
   "cell_type": "code",
   "execution_count": 97,
   "metadata": {},
   "outputs": [],
   "source": [
    "#Important parameters and training/Test size\n",
    "prediction_time = 1 \n",
    "testdatasize = X_test.shape[0]\n",
    "unroll_length = 10\n",
    "testdatacut = testdatasize + unroll_length  + 1\n"
   ]
  },
  {
   "cell_type": "code",
   "execution_count": 98,
   "metadata": {},
   "outputs": [],
   "source": [
    "#def unroll(data,sequence_length=24):\n",
    " #   result = []\n",
    "  #  for index in range(len(data) - sequence_length):\n",
    "   #     result.append(data[index: index + sequence_length])\n",
    "    #return np.asarray(result)\n",
    "\n",
    "#Adapt the datasets for the sequence data shape\n",
    "#X_train = unroll(X_train,unroll_length)\n",
    "#X_test  = unroll(X_test,unroll_length)\n",
    "#Y_train = y_train[-X_train.shape[0]:]\n",
    "#y_test  = y_test[-X_test.shape[0]:]"
   ]
  },
  {
   "cell_type": "code",
   "execution_count": null,
   "metadata": {},
   "outputs": [],
   "source": []
  },
  {
   "cell_type": "code",
   "execution_count": 99,
   "metadata": {},
   "outputs": [
    {
     "data": {
      "text/plain": [
       "(1900, 11)"
      ]
     },
     "execution_count": 99,
     "metadata": {},
     "output_type": "execute_result"
    }
   ],
   "source": [
    "X_train.shape"
   ]
  },
  {
   "cell_type": "code",
   "execution_count": null,
   "metadata": {},
   "outputs": [],
   "source": []
  },
  {
   "cell_type": "code",
   "execution_count": 100,
   "metadata": {},
   "outputs": [
    {
     "data": {
      "text/plain": [
       "(476, 8)"
      ]
     },
     "execution_count": 100,
     "metadata": {},
     "output_type": "execute_result"
    }
   ],
   "source": [
    "y_test.shape"
   ]
  },
  {
   "cell_type": "code",
   "execution_count": 102,
   "metadata": {},
   "outputs": [],
   "source": [
    "#Building the model\n",
    "model = Sequential()\n",
    "\n",
    "model.add(LSTM(200, input_shape=(50,11)))\n",
    "model.add(Dropout(0.5))\n",
    "model.add(Dense(200, activation='relu'))\n",
    "model.add(Dropout(0.5))\n",
    "model.add(Dense(8, activation='softmax'))\n",
    "model.compile(loss='categorical_crossentropy', optimizer='adam', metrics=['accuracy'])"
   ]
  },
  {
   "cell_type": "code",
   "execution_count": 103,
   "metadata": {},
   "outputs": [
    {
     "name": "stdout",
     "output_type": "stream",
     "text": [
      "Model: \"sequential_3\"\n",
      "_________________________________________________________________\n",
      "Layer (type)                 Output Shape              Param #   \n",
      "=================================================================\n",
      "lstm_3 (LSTM)                (None, 200)               169600    \n",
      "_________________________________________________________________\n",
      "dropout_5 (Dropout)          (None, 200)               0         \n",
      "_________________________________________________________________\n",
      "dense_5 (Dense)              (None, 200)               40200     \n",
      "_________________________________________________________________\n",
      "dropout_6 (Dropout)          (None, 200)               0         \n",
      "_________________________________________________________________\n",
      "dense_6 (Dense)              (None, 8)                 1608      \n",
      "=================================================================\n",
      "Total params: 211,408\n",
      "Trainable params: 211,408\n",
      "Non-trainable params: 0\n",
      "_________________________________________________________________\n"
     ]
    }
   ],
   "source": [
    "model.summary()"
   ]
  },
  {
   "cell_type": "code",
   "execution_count": 104,
   "metadata": {},
   "outputs": [],
   "source": [
    "def gen_train(data_array):\n",
    "    seq_length=50\n",
    "    num_elements = data_array.shape[0]\n",
    "    lstm_array=[]\n",
    "    for start, stop in zip(range(0, num_elements-seq_length), range(seq_length, num_elements)):\n",
    "            lstm_array.append(data_array[start:stop, :])\n",
    "    return np.array(lstm_array)"
   ]
  },
  {
   "cell_type": "code",
   "execution_count": 105,
   "metadata": {},
   "outputs": [],
   "source": [
    "def gen_label(data_array):    \n",
    "    seq_length=50\n",
    "    num_elements = data_array.shape[0]\n",
    "    y_label=[]\n",
    "    for start, stop in zip(range(0, num_elements-seq_length), range(seq_length, num_elements)):\n",
    "        y_label.append(data_array[stop])\n",
    "    return np.array(y_label)"
   ]
  },
  {
   "cell_type": "code",
   "execution_count": 106,
   "metadata": {},
   "outputs": [],
   "source": [
    "X_train=gen_train(X_train)\n",
    "X_test=gen_train(X_test)"
   ]
  },
  {
   "cell_type": "code",
   "execution_count": 107,
   "metadata": {},
   "outputs": [],
   "source": [
    "y_train=gen_label(y_train)\n",
    "y_test=gen_label(y_test)"
   ]
  },
  {
   "cell_type": "code",
   "execution_count": null,
   "metadata": {},
   "outputs": [],
   "source": []
  },
  {
   "cell_type": "code",
   "execution_count": 108,
   "metadata": {},
   "outputs": [
    {
     "name": "stderr",
     "output_type": "stream",
     "text": [
      "/Users/adithya/opt/anaconda3/lib/python3.7/site-packages/ipykernel_launcher.py:1: UserWarning: The `nb_epoch` argument in `fit` has been renamed `epochs`.\n",
      "  \"\"\"Entry point for launching an IPython kernel.\n"
     ]
    },
    {
     "name": "stdout",
     "output_type": "stream",
     "text": [
      "Train on 1665 samples, validate on 185 samples\n",
      "Epoch 1/50\n",
      "1665/1665 [==============================] - 3s 2ms/step - loss: 2.2193 - accuracy: 0.1333 - val_loss: 2.0814 - val_accuracy: 0.1459\n",
      "Epoch 2/50\n",
      "1665/1665 [==============================] - 2s 1ms/step - loss: 2.1163 - accuracy: 0.1544 - val_loss: 2.0797 - val_accuracy: 0.1459\n",
      "Epoch 3/50\n",
      "1665/1665 [==============================] - 2s 1ms/step - loss: 2.1301 - accuracy: 0.1321 - val_loss: 2.0733 - val_accuracy: 0.1351\n",
      "Epoch 4/50\n",
      "1665/1665 [==============================] - 2s 1ms/step - loss: 2.1117 - accuracy: 0.1231 - val_loss: 2.0731 - val_accuracy: 0.1514\n",
      "Epoch 5/50\n",
      "1665/1665 [==============================] - 2s 1ms/step - loss: 2.0940 - accuracy: 0.1393 - val_loss: 2.0773 - val_accuracy: 0.1351\n",
      "Epoch 6/50\n",
      "1665/1665 [==============================] - 2s 1ms/step - loss: 2.0880 - accuracy: 0.1369 - val_loss: 2.0755 - val_accuracy: 0.1514\n",
      "Epoch 7/50\n",
      "1665/1665 [==============================] - 2s 1ms/step - loss: 2.0880 - accuracy: 0.1459 - val_loss: 2.0742 - val_accuracy: 0.1514\n",
      "Epoch 8/50\n",
      "1665/1665 [==============================] - 2s 1ms/step - loss: 2.0805 - accuracy: 0.1508 - val_loss: 2.0722 - val_accuracy: 0.1784\n",
      "Epoch 9/50\n",
      "1665/1665 [==============================] - 2s 1ms/step - loss: 2.0795 - accuracy: 0.1423 - val_loss: 2.0789 - val_accuracy: 0.1568\n",
      "Epoch 10/50\n",
      "1665/1665 [==============================] - 2s 1ms/step - loss: 2.0752 - accuracy: 0.1568 - val_loss: 2.0748 - val_accuracy: 0.1622\n",
      "Epoch 11/50\n",
      "1665/1665 [==============================] - 2s 1ms/step - loss: 2.0795 - accuracy: 0.1441 - val_loss: 2.0777 - val_accuracy: 0.1568\n",
      "Epoch 12/50\n",
      "1665/1665 [==============================] - 2s 1ms/step - loss: 2.0785 - accuracy: 0.1417 - val_loss: 2.0767 - val_accuracy: 0.1622\n",
      "Epoch 13/50\n",
      "1665/1665 [==============================] - 2s 1ms/step - loss: 2.0770 - accuracy: 0.1387 - val_loss: 2.0749 - val_accuracy: 0.1622\n",
      "Epoch 14/50\n",
      "1665/1665 [==============================] - 2s 1ms/step - loss: 2.0762 - accuracy: 0.1387 - val_loss: 2.0716 - val_accuracy: 0.1568\n",
      "Epoch 15/50\n",
      "1665/1665 [==============================] - 2s 1ms/step - loss: 2.0745 - accuracy: 0.1447 - val_loss: 2.0741 - val_accuracy: 0.1568\n",
      "Epoch 16/50\n",
      "1665/1665 [==============================] - 2s 1ms/step - loss: 2.0799 - accuracy: 0.1429 - val_loss: 2.0750 - val_accuracy: 0.1568\n",
      "Epoch 17/50\n",
      "1665/1665 [==============================] - 2s 1ms/step - loss: 2.0742 - accuracy: 0.1453 - val_loss: 2.0766 - val_accuracy: 0.1568\n",
      "Epoch 18/50\n",
      "1665/1665 [==============================] - 2s 1ms/step - loss: 2.0750 - accuracy: 0.1502 - val_loss: 2.0739 - val_accuracy: 0.1730\n",
      "Epoch 19/50\n",
      "1665/1665 [==============================] - 2s 1ms/step - loss: 2.0751 - accuracy: 0.1616 - val_loss: 2.0714 - val_accuracy: 0.1622\n",
      "Epoch 20/50\n",
      "1665/1665 [==============================] - 2s 1ms/step - loss: 2.0831 - accuracy: 0.1471 - val_loss: 2.0735 - val_accuracy: 0.1676\n",
      "Epoch 21/50\n",
      "1665/1665 [==============================] - 2s 1ms/step - loss: 2.0769 - accuracy: 0.1333 - val_loss: 2.0750 - val_accuracy: 0.1622\n",
      "Epoch 22/50\n",
      "1665/1665 [==============================] - 2s 1ms/step - loss: 2.0739 - accuracy: 0.1357 - val_loss: 2.0748 - val_accuracy: 0.1622\n",
      "Epoch 23/50\n",
      "1665/1665 [==============================] - 2s 1ms/step - loss: 2.0798 - accuracy: 0.1405 - val_loss: 2.0761 - val_accuracy: 0.1730\n",
      "Epoch 24/50\n",
      "1665/1665 [==============================] - 2s 1ms/step - loss: 2.0756 - accuracy: 0.1315 - val_loss: 2.0732 - val_accuracy: 0.1838\n",
      "Epoch 25/50\n",
      "1665/1665 [==============================] - 2s 1ms/step - loss: 2.0734 - accuracy: 0.1423 - val_loss: 2.0707 - val_accuracy: 0.1730\n",
      "Epoch 26/50\n",
      "1665/1665 [==============================] - 2s 1ms/step - loss: 2.0830 - accuracy: 0.1369 - val_loss: 2.0725 - val_accuracy: 0.1568\n",
      "Epoch 27/50\n",
      "1665/1665 [==============================] - 2s 1ms/step - loss: 2.0754 - accuracy: 0.1471 - val_loss: 2.0740 - val_accuracy: 0.1568\n",
      "Epoch 28/50\n",
      "1665/1665 [==============================] - 2s 1ms/step - loss: 2.0761 - accuracy: 0.1417 - val_loss: 2.0727 - val_accuracy: 0.1568\n",
      "Epoch 29/50\n",
      "1665/1665 [==============================] - 2s 1ms/step - loss: 2.0794 - accuracy: 0.1363 - val_loss: 2.0722 - val_accuracy: 0.1568\n",
      "Epoch 30/50\n",
      "1665/1665 [==============================] - 2s 1ms/step - loss: 2.0720 - accuracy: 0.1538 - val_loss: 2.0722 - val_accuracy: 0.1568\n",
      "Epoch 31/50\n",
      "1665/1665 [==============================] - 2s 1ms/step - loss: 2.0731 - accuracy: 0.1538 - val_loss: 2.0719 - val_accuracy: 0.1622\n",
      "Epoch 32/50\n",
      "1665/1665 [==============================] - 2s 1ms/step - loss: 2.0784 - accuracy: 0.1495 - val_loss: 2.0745 - val_accuracy: 0.1568\n",
      "Epoch 33/50\n",
      "1665/1665 [==============================] - 2s 1ms/step - loss: 2.0690 - accuracy: 0.1562 - val_loss: 2.0776 - val_accuracy: 0.1568\n",
      "Epoch 34/50\n",
      "1665/1665 [==============================] - 2s 1ms/step - loss: 2.0717 - accuracy: 0.1502 - val_loss: 2.0759 - val_accuracy: 0.1568\n",
      "Epoch 35/50\n",
      "1665/1665 [==============================] - 2s 1ms/step - loss: 2.0703 - accuracy: 0.1520 - val_loss: 2.0751 - val_accuracy: 0.1568\n",
      "Epoch 36/50\n",
      "1665/1665 [==============================] - 2s 1ms/step - loss: 2.0723 - accuracy: 0.1526 - val_loss: 2.0740 - val_accuracy: 0.1568\n",
      "Epoch 37/50\n",
      "1665/1665 [==============================] - 2s 1ms/step - loss: 2.0748 - accuracy: 0.1592 - val_loss: 2.0730 - val_accuracy: 0.1568\n",
      "Epoch 38/50\n",
      "1665/1665 [==============================] - 2s 1ms/step - loss: 2.0707 - accuracy: 0.1622 - val_loss: 2.0727 - val_accuracy: 0.1568\n",
      "Epoch 39/50\n",
      "1665/1665 [==============================] - 2s 1ms/step - loss: 2.0725 - accuracy: 0.1483 - val_loss: 2.0727 - val_accuracy: 0.1568\n",
      "Epoch 40/50\n",
      "1665/1665 [==============================] - 2s 1ms/step - loss: 2.0715 - accuracy: 0.1520 - val_loss: 2.0747 - val_accuracy: 0.1568\n",
      "Epoch 41/50\n",
      "1665/1665 [==============================] - 2s 1ms/step - loss: 2.0710 - accuracy: 0.1568 - val_loss: 2.0738 - val_accuracy: 0.1568\n",
      "Epoch 42/50\n",
      "1665/1665 [==============================] - 2s 1ms/step - loss: 2.0703 - accuracy: 0.1556 - val_loss: 2.0724 - val_accuracy: 0.1622\n",
      "Epoch 43/50\n",
      "1665/1665 [==============================] - 2s 1ms/step - loss: 2.0737 - accuracy: 0.1447 - val_loss: 2.0732 - val_accuracy: 0.1676\n",
      "Epoch 44/50\n",
      "1665/1665 [==============================] - 2s 1ms/step - loss: 2.0721 - accuracy: 0.1459 - val_loss: 2.0716 - val_accuracy: 0.1730\n",
      "Epoch 45/50\n",
      "1665/1665 [==============================] - 2s 1ms/step - loss: 2.0732 - accuracy: 0.1520 - val_loss: 2.0735 - val_accuracy: 0.1568\n",
      "Epoch 46/50\n",
      "1665/1665 [==============================] - 2s 1ms/step - loss: 2.0684 - accuracy: 0.1610 - val_loss: 2.0743 - val_accuracy: 0.1622\n",
      "Epoch 47/50\n",
      "1665/1665 [==============================] - 2s 1ms/step - loss: 2.0778 - accuracy: 0.1568 - val_loss: 2.0741 - val_accuracy: 0.1622\n",
      "Epoch 48/50\n",
      "1665/1665 [==============================] - 2s 1ms/step - loss: 2.0724 - accuracy: 0.1514 - val_loss: 2.0724 - val_accuracy: 0.1622\n",
      "Epoch 49/50\n",
      "1665/1665 [==============================] - 2s 1ms/step - loss: 2.0696 - accuracy: 0.1574 - val_loss: 2.0706 - val_accuracy: 0.1730\n",
      "Epoch 50/50\n",
      "1665/1665 [==============================] - 2s 1ms/step - loss: 2.0723 - accuracy: 0.1508 - val_loss: 2.0729 - val_accuracy: 0.1622\n"
     ]
    },
    {
     "data": {
      "text/plain": [
       "<keras.callbacks.callbacks.History at 0x7fd6f3c1cbd0>"
      ]
     },
     "execution_count": 108,
     "metadata": {},
     "output_type": "execute_result"
    }
   ],
   "source": [
    "model.fit(X_train, y_train, nb_epoch=50, validation_split=0.1)"
   ]
  },
  {
   "cell_type": "code",
   "execution_count": 109,
   "metadata": {},
   "outputs": [
    {
     "data": {
      "text/plain": [
       "<matplotlib.legend.Legend at 0x7fd6f39012d0>"
      ]
     },
     "execution_count": 109,
     "metadata": {},
     "output_type": "execute_result"
    },
    {
     "data": {
      "image/png": "[encoded data removed]",
      "text/plain": [
       "<Figure size 720x360 with 1 Axes>"
      ]
     },
     "metadata": {
      "needs_background": "light"
     },
     "output_type": "display_data"
    }
   ],
   "source": [
    "plt.figure(figsize = (10, 5))\n",
    "plt.plot(model.history.history['loss'], label = 'Loss')\n",
    "plt.plot(model.history.history['val_loss'], Label = 'Val_Loss')\n",
    "plt.xlabel('Epochs')\n",
    "plt.ylabel('Loss')\n",
    "plt.grid()\n",
    "plt.legend()"
   ]
  },
  {
   "cell_type": "code",
   "execution_count": 19,
   "metadata": {},
   "outputs": [],
   "source": [
    "p = model.predict(X_test)"
   ]
  },
  {
   "cell_type": "code",
   "execution_count": 20,
   "metadata": {},
   "outputs": [],
   "source": [
    "diff=[]\n",
    "ratio=[]\n",
    "for u in range(len(y_test)-1):\n",
    "    pr = p[u][0]\n",
    "    ratio.append((y_test[u]/pr)-1)\n",
    "    diff.append(abs(y_test[u]- pr))\n"
   ]
  },
  {
   "cell_type": "code",
   "execution_count": 21,
   "metadata": {},
   "outputs": [
    {
     "data": {
      "text/plain": [
       "(1890, 10, 11)"
      ]
     },
     "execution_count": 21,
     "metadata": {},
     "output_type": "execute_result"
    }
   ],
   "source": [
    "X_train.shape"
   ]
  },
  {
   "cell_type": "code",
   "execution_count": 22,
   "metadata": {},
   "outputs": [],
   "source": [
    "import tensorflow as tf\n",
    "index = tf.argmax(p,axis=1)"
   ]
  },
  {
   "cell_type": "code",
   "execution_count": 23,
   "metadata": {},
   "outputs": [],
   "source": [
    "z=np.array(index)"
   ]
  },
  {
   "cell_type": "code",
   "execution_count": 24,
   "metadata": {},
   "outputs": [
    {
     "data": {
      "text/plain": [
       "(466,)"
      ]
     },
     "execution_count": 24,
     "metadata": {},
     "output_type": "execute_result"
    }
   ],
   "source": [
    "z.shape"
   ]
  },
  {
   "cell_type": "code",
   "execution_count": 25,
   "metadata": {},
   "outputs": [
    {
     "data": {
      "text/plain": [
       "(466, 8)"
      ]
     },
     "execution_count": 25,
     "metadata": {},
     "output_type": "execute_result"
    }
   ],
   "source": [
    "y_test.shape"
   ]
  },
  {
   "cell_type": "raw",
   "metadata": {},
   "source": []
  },
  {
   "cell_type": "code",
   "execution_count": 26,
   "metadata": {},
   "outputs": [
    {
     "name": "stdout",
     "output_type": "stream",
     "text": [
      "[[52  0  0  0  0  0  0  0]\n",
      " [48  0  0  0  0  0  1  0]\n",
      " [65  0  0  0  0  0  0  0]\n",
      " [54  0  1  0  0  0  3  0]\n",
      " [68  0  1  0  0  0  0  0]\n",
      " [48  0  0  0  0  0  0  0]\n",
      " [69  0  1  0  1  0  0  0]\n",
      " [54  0  0  0  0  0  0  0]]\n"
     ]
    }
   ],
   "source": [
    "print(confusion_matrix(test, z))"
   ]
  },
  {
   "cell_type": "code",
   "execution_count": null,
   "metadata": {},
   "outputs": [],
   "source": []
  },
  {
   "cell_type": "code",
   "execution_count": 27,
   "metadata": {},
   "outputs": [
    {
     "name": "stdout",
     "output_type": "stream",
     "text": [
      "              precision    recall  f1-score   support\n",
      "\n",
      "           0       0.11      1.00      0.20        52\n",
      "           1       0.00      0.00      0.00        49\n",
      "           2       0.00      0.00      0.00        65\n",
      "           3       0.00      0.00      0.00        58\n",
      "           4       0.00      0.00      0.00        69\n",
      "           5       0.00      0.00      0.00        48\n",
      "           6       0.00      0.00      0.00        71\n",
      "           7       0.00      0.00      0.00        54\n",
      "\n",
      "    accuracy                           0.11       466\n",
      "   macro avg       0.01      0.12      0.03       466\n",
      "weighted avg       0.01      0.11      0.02       466\n",
      "\n"
     ]
    },
    {
     "name": "stderr",
     "output_type": "stream",
     "text": [
      "/Users/adithya/opt/anaconda3/lib/python3.7/site-packages/sklearn/metrics/classification.py:1437: UndefinedMetricWarning: Precision and F-score are ill-defined and being set to 0.0 in labels with no predicted samples.\n",
      "  'precision', 'predicted', average, warn_for)\n"
     ]
    }
   ],
   "source": [
    "print(classification_report(test, z)) "
   ]
  },
  {
   "cell_type": "code",
   "execution_count": 28,
   "metadata": {},
   "outputs": [
    {
     "ename": "NameError",
     "evalue": "name 'd' is not defined",
     "output_type": "error",
     "traceback": [
      "\u001b[0;31m---------------------------------------------------------------------------\u001b[0m",
      "\u001b[0;31mNameError\u001b[0m                                 Traceback (most recent call last)",
      "\u001b[0;32m<ipython-input-28-b37c029ee12f>\u001b[0m in \u001b[0;36m<module>\u001b[0;34m\u001b[0m\n\u001b[1;32m      2\u001b[0m \u001b[0;32mimport\u001b[0m \u001b[0mpandas\u001b[0m \u001b[0;32mas\u001b[0m \u001b[0mpd\u001b[0m\u001b[0;34m\u001b[0m\u001b[0;34m\u001b[0m\u001b[0m\n\u001b[1;32m      3\u001b[0m \u001b[0;32mimport\u001b[0m \u001b[0mmatplotlib\u001b[0m\u001b[0;34m.\u001b[0m\u001b[0mpyplot\u001b[0m \u001b[0;32mas\u001b[0m \u001b[0mplt\u001b[0m\u001b[0;34m\u001b[0m\u001b[0;34m\u001b[0m\u001b[0m\n\u001b[0;32m----> 4\u001b[0;31m df_cm = pd.DataFrame(d, index = [i for i in \"12345678\"],\n\u001b[0m\u001b[1;32m      5\u001b[0m               columns = [i for i in \"12345678\"])\n\u001b[1;32m      6\u001b[0m \u001b[0mplt\u001b[0m\u001b[0;34m.\u001b[0m\u001b[0mfigure\u001b[0m\u001b[0;34m(\u001b[0m\u001b[0;34m)\u001b[0m\u001b[0;34m\u001b[0m\u001b[0;34m\u001b[0m\u001b[0m\n",
      "\u001b[0;31mNameError\u001b[0m: name 'd' is not defined"
     ]
    }
   ],
   "source": [
    "import seaborn as sn\n",
    "import pandas as pd\n",
    "import matplotlib.pyplot as plt\n",
    "df_cm = pd.DataFrame(d, index = [i for i in \"12345678\"],\n",
    "              columns = [i for i in \"12345678\"])\n",
    "plt.figure()\n",
    "sn.heatmap(df_cm, annot=True,cmap=\"Blues\")"
   ]
  },
  {
   "cell_type": "code",
   "execution_count": null,
   "metadata": {},
   "outputs": [],
   "source": [
    "gait = pd.read_csv(\"gaitFullModified2.csv\")"
   ]
  },
  {
   "cell_type": "code",
   "execution_count": null,
   "metadata": {},
   "outputs": [],
   "source": [
    "X = gait.drop('label',  axis=1)\n",
    "y = gait['label']"
   ]
  },
  {
   "cell_type": "code",
   "execution_count": null,
   "metadata": {},
   "outputs": [],
   "source": [
    "X_train, X_test, y_train, y_test = train_test_split(X, y, test_size=0.20)"
   ]
  },
  {
   "cell_type": "code",
   "execution_count": null,
   "metadata": {},
   "outputs": [],
   "source": [
    "from sklearn.model_selection import GridSearchCV \n",
    "  \n",
    "# defining parameter range \n",
    "param_grid = {'C': [1000],  \n",
    "              'gamma': [0.0001], \n",
    "              'kernel': ['rbf']}  \n",
    "  \n",
    "grid = GridSearchCV(SVC(), param_grid, refit = True, verbose = 3) \n",
    "  \n",
    "# fitting the model for grid search \n",
    "grid.fit(X_train, y_train) "
   ]
  },
  {
   "cell_type": "markdown",
   "metadata": {},
   "source": [
    "print(grid.best_estimator_) "
   ]
  },
  {
   "cell_type": "code",
   "execution_count": null,
   "metadata": {},
   "outputs": [],
   "source": [
    "grid_predictions=grid.predict(X_test)"
   ]
  },
  {
   "cell_type": "code",
   "execution_count": null,
   "metadata": {},
   "outputs": [],
   "source": [
    "print(classification_report(y_test, grid_predictions)) "
   ]
  },
  {
   "cell_type": "code",
   "execution_count": null,
   "metadata": {},
   "outputs": [],
   "source": [
    "print(confusion_matrix(y_test, grid_predictions))"
   ]
  },
  {
   "cell_type": "code",
   "execution_count": null,
   "metadata": {},
   "outputs": [],
   "source": [
    "d=[[ 27 ,15  , 0  ,12],\n",
    " [ 14 ,142 ,  4,  26],\n",
    " [  7,  14,  38  , 9],\n",
    " [ 14 , 27,  12, 115]]"
   ]
  },
  {
   "cell_type": "code",
   "execution_count": null,
   "metadata": {},
   "outputs": [],
   "source": [
    "import seaborn as sn\n",
    "import pandas as pd\n",
    "import matplotlib.pyplot as plt\n",
    "df_cm = pd.DataFrame(d, index = [i for i in \"1234\"],\n",
    "              columns = [i for i in \"1234\"])\n",
    "plt.figure()\n",
    "sn.heatmap(df_cm, annot=True,cmap=\"Blues\")"
   ]
  },
  {
   "cell_type": "code",
   "execution_count": null,
   "metadata": {},
   "outputs": [],
   "source": [
    "nodes= [3,8,6,7,2]\n",
    "out=[]\n",
    "for k in range(len(nodes)):\n",
    "        out.append(nodes[-k])\n",
    "print(out)"
   ]
  },
  {
   "cell_type": "code",
   "execution_count": null,
   "metadata": {},
   "outputs": [],
   "source": [
    "num = 15\n",
    "def increment(num):\n",
    "    num = num + 2\n",
    "\n",
    "increment(10)\n",
    "print(num)"
   ]
  },
  {
   "cell_type": "code",
   "execution_count": null,
   "metadata": {},
   "outputs": [],
   "source": []
  },
  {
   "cell_type": "code",
   "execution_count": null,
   "metadata": {},
   "outputs": [],
   "source": []
  }
 ],
 "metadata": {
  "kernelspec": {
   "display_name": "Python 3",
   "language": "python",
   "name": "python3"
  },
  "language_info": {
   "codemirror_mode": {
    "name": "ipython",
    "version": 3
   },
   "file_extension": ".py",
   "mimetype": "text/x-python",
   "name": "python",
   "nbconvert_exporter": "python",
   "pygments_lexer": "ipython3",
   "version": "3.7.4"
  }
 },
 "nbformat": 4,
 "nbformat_minor": 2
}
