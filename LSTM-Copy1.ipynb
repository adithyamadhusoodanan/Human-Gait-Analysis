{
 "cells": [
  {
   "cell_type": "code",
   "execution_count": 182,
   "metadata": {},
   "outputs": [],
   "source": [
    "from sklearn.metrics import classification_report, confusion_matrix\n",
    "from sklearn.svm import SVC\n",
    "from sklearn.model_selection import train_test_split\n",
    "import pandas as pd\n",
    "import numpy as np\n",
    "import matplotlib.pyplot as plt"
   ]
  },
  {
   "cell_type": "code",
   "execution_count": 183,
   "metadata": {},
   "outputs": [],
   "source": [
    "from tensorflow import keras\n",
    "from tensorflow.keras import layers"
   ]
  },
  {
   "cell_type": "code",
   "execution_count": 184,
   "metadata": {},
   "outputs": [],
   "source": [
    "from keras.models import Sequential\n",
    "from keras.layers import Dense\n",
    "from keras.layers import Flatten\n",
    "from keras.layers import Dropout\n",
    "from keras.layers import LSTM,BatchNormalization, TimeDistributed, Conv1D,MaxPooling1D,GRU,Bidirectional\n",
    "from keras.utils import to_categorical\n",
    "from keras.optimizers import RMSprop, Adam\n",
    "from keras.callbacks import EarlyStopping"
   ]
  },
  {
   "cell_type": "code",
   "execution_count": 185,
   "metadata": {},
   "outputs": [],
   "source": [
    "gait = pd.read_csv(\"gaitFull.csv\")\n",
    "#gait = pd.read_csv(\"gaitFullModified2.csv\")"
   ]
  },
  {
   "cell_type": "code",
   "execution_count": 186,
   "metadata": {},
   "outputs": [],
   "source": [
    "X1 = gait.drop('label',  axis=1)\n",
    "y = gait['label']"
   ]
  },
  {
   "cell_type": "code",
   "execution_count": 187,
   "metadata": {},
   "outputs": [],
   "source": [
    "#'P1','P2','P3','x1','y1','z1','x2','y2','z2'\n",
    "X = pd.DataFrame(X1 , columns= ['P1','P2','P3','r'])\n",
    "Xa1 = pd.DataFrame(X1 , columns= ['x1','y1','z1'])\n",
    "Xb1 = pd.DataFrame(X1 , columns= ['x2','y2','z2'])"
   ]
  },
  {
   "cell_type": "code",
   "execution_count": 188,
   "metadata": {},
   "outputs": [],
   "source": [
    "from sklearn.preprocessing import StandardScaler \n",
    "sc = StandardScaler() \n",
    "  \n",
    "Xa1 = sc.fit_transform(Xa1) \n",
    "Xb1 = sc.transform(Xb1) \n",
    "\n",
    "from sklearn.decomposition import PCA \n",
    "  \n",
    "pca = PCA(n_components = 1) \n",
    "  \n",
    "Xa1 = pca.fit_transform(Xa1)   \n",
    "explained_variance = pca.explained_variance_ratio_ \n",
    "\n",
    "from sklearn.decomposition import PCA \n",
    "  \n",
    "pca1 = PCA(n_components = 1) \n",
    "  \n",
    "Xb1 = pca1.fit_transform(Xb1)   \n",
    "explained_variance = pca.explained_variance_ratio_ "
   ]
  },
  {
   "cell_type": "code",
   "execution_count": 189,
   "metadata": {},
   "outputs": [],
   "source": [
    "X.insert(3, \"Xa1\", Xa1, True) \n",
    "X.insert(4, \"Xb1\", Xb1, True) "
   ]
  },
  {
   "cell_type": "code",
   "execution_count": 190,
   "metadata": {},
   "outputs": [
    {
     "data": {
      "text/plain": [
       "0     1\n",
       "1     1\n",
       "2     2\n",
       "3     2\n",
       "4     2\n",
       "5     2\n",
       "6     2\n",
       "7     2\n",
       "8     2\n",
       "9     2\n",
       "10    2\n",
       "11    2\n",
       "12    2\n",
       "13    2\n",
       "14    2\n",
       "15    3\n",
       "16    3\n",
       "17    3\n",
       "18    4\n",
       "19    4\n",
       "20    4\n",
       "21    4\n",
       "22    4\n",
       "23    4\n",
       "24    4\n",
       "25    4\n",
       "26    4\n",
       "27    4\n",
       "28    1\n",
       "29    1\n",
       "Name: label, dtype: int64"
      ]
     },
     "execution_count": 190,
     "metadata": {},
     "output_type": "execute_result"
    }
   ],
   "source": [
    "y.head(30)"
   ]
  },
  {
   "cell_type": "code",
   "execution_count": 191,
   "metadata": {},
   "outputs": [],
   "source": [
    "X_train, X_test, y_train, y_test = train_test_split(X, y, test_size=0.2,random_state=42)"
   ]
  },
  {
   "cell_type": "code",
   "execution_count": 192,
   "metadata": {},
   "outputs": [],
   "source": [
    "X_train=np.array(X_train)\n",
    "X_test=np.array(X_test)\n",
    "y_train=np.array(y_train)\n",
    "y_test=np.array(y_test)"
   ]
  },
  {
   "cell_type": "code",
   "execution_count": 193,
   "metadata": {},
   "outputs": [],
   "source": [
    "X_train= X_train.reshape((X_train.shape[0],X_train.shape[1],1))\n",
    "X_test= X_test.reshape((X_test.shape[0],X_test.shape[1],1))"
   ]
  },
  {
   "cell_type": "code",
   "execution_count": 194,
   "metadata": {},
   "outputs": [],
   "source": [
    "y_train = to_categorical(y_train)\n",
    "#y_test = to_categorical(y_test)"
   ]
  },
  {
   "cell_type": "code",
   "execution_count": 195,
   "metadata": {},
   "outputs": [],
   "source": [
    "y_train= y_train.reshape((y_train.shape[0],y_train.shape[1]))\n",
    "#y_test= y_test.reshape((1,476,4))"
   ]
  },
  {
   "cell_type": "code",
   "execution_count": 196,
   "metadata": {},
   "outputs": [
    {
     "data": {
      "text/plain": [
       "(1900, 6, 1)"
      ]
     },
     "execution_count": 196,
     "metadata": {},
     "output_type": "execute_result"
    }
   ],
   "source": [
    "X_train.shape"
   ]
  },
  {
   "cell_type": "code",
   "execution_count": 197,
   "metadata": {},
   "outputs": [],
   "source": [
    "es = EarlyStopping(monitor='val_loss', verbose=1)"
   ]
  },
  {
   "cell_type": "code",
   "execution_count": null,
   "metadata": {
    "scrolled": true
   },
   "outputs": [],
   "source": []
  },
  {
   "cell_type": "code",
   "execution_count": 198,
   "metadata": {},
   "outputs": [
    {
     "name": "stdout",
     "output_type": "stream",
     "text": [
      "Model: \"sequential_7\"\n",
      "_________________________________________________________________\n",
      "Layer (type)                 Output Shape              Param #   \n",
      "=================================================================\n",
      "lstm_25 (LSTM)               (None, 6, 64)             16896     \n",
      "_________________________________________________________________\n",
      "bidirectional_19 (Bidirectio (None, 6, 256)            197632    \n",
      "_________________________________________________________________\n",
      "conv1d_19 (Conv1D)           (None, 5, 32)             16416     \n",
      "_________________________________________________________________\n",
      "max_pooling1d_13 (MaxPooling (None, 4, 32)             0         \n",
      "_________________________________________________________________\n",
      "conv1d_20 (Conv1D)           (None, 3, 64)             4160      \n",
      "_________________________________________________________________\n",
      "max_pooling1d_14 (MaxPooling (None, 2, 64)             0         \n",
      "_________________________________________________________________\n",
      "conv1d_21 (Conv1D)           (None, 1, 32)             4128      \n",
      "_________________________________________________________________\n",
      "bidirectional_20 (Bidirectio (None, 1, 128)            49664     \n",
      "_________________________________________________________________\n",
      "bidirectional_21 (Bidirectio (None, 256)               263168    \n",
      "_________________________________________________________________\n",
      "batch_normalization_7 (Batch (None, 256)               1024      \n",
      "_________________________________________________________________\n",
      "dense_13 (Dense)             (None, 32)                8224      \n",
      "_________________________________________________________________\n",
      "dense_14 (Dense)             (None, 5)                 165       \n",
      "=================================================================\n",
      "Total params: 561,477\n",
      "Trainable params: 560,965\n",
      "Non-trainable params: 512\n",
      "_________________________________________________________________\n",
      "None\n"
     ]
    }
   ],
   "source": [
    "model = Sequential()\n",
    "n_timesteps, n_features, n_outputs = X_train.shape[1], X_train.shape[2], y_train.shape[1]\n",
    "model.add(LSTM(64,activation='relu',return_sequences=True,input_shape=(n_timesteps, n_features)))\n",
    "model.add(Bidirectional(LSTM(128,activation='relu',return_sequences=True)))\n",
    "model.add(Conv1D(32,kernel_size=2,strides=1,activation='relu'))\n",
    "model.add(MaxPooling1D(2,strides=1))\n",
    "model.add(Conv1D(64,kernel_size=2,strides=1,activation='relu'))\n",
    "model.add(MaxPooling1D(2,strides=1))\n",
    "model.add(Conv1D(32,kernel_size=2,strides=1,activation='relu'))\n",
    "model.add(Bidirectional(LSTM(64,activation='relu',return_sequences=True)))\n",
    "model.add(Bidirectional(LSTM(128,activation='relu')))\n",
    "model.add(BatchNormalization())\n",
    "#model.add(Flatten())\n",
    "\n",
    "model.add(Dense(32, activation='relu'))\n",
    "model.add(Dense(n_outputs, activation='sigmoid'))\n",
    "\n",
    "model.compile(optimizer = Adam(lr = 0.0005),loss='categorical_crossentropy', metrics=['accuracy'])\n",
    "print(model.summary())"
   ]
  },
  {
   "cell_type": "code",
   "execution_count": 199,
   "metadata": {},
   "outputs": [
    {
     "name": "stdout",
     "output_type": "stream",
     "text": [
      "Train on 1520 samples, validate on 380 samples\n",
      "Epoch 1/100\n",
      "1520/1520 [==============================] - 4s 2ms/step - loss: 1.5955 - accuracy: 0.4191 - val_loss: 1.5996 - val_accuracy: 0.3632\n",
      "Epoch 2/100\n",
      "1520/1520 [==============================] - 0s 242us/step - loss: 1.5143 - accuracy: 0.4355 - val_loss: 1.5885 - val_accuracy: 0.3500\n",
      "Epoch 3/100\n",
      "1520/1520 [==============================] - 0s 252us/step - loss: 1.3587 - accuracy: 0.4349 - val_loss: 1.5616 - val_accuracy: 0.2974\n",
      "Epoch 4/100\n",
      "1520/1520 [==============================] - 0s 245us/step - loss: 1.2679 - accuracy: 0.4842 - val_loss: 1.5201 - val_accuracy: 0.3132\n",
      "Epoch 5/100\n",
      "1520/1520 [==============================] - 0s 240us/step - loss: 1.2292 - accuracy: 0.5355 - val_loss: 1.4889 - val_accuracy: 0.3237\n",
      "Epoch 6/100\n",
      "1520/1520 [==============================] - 0s 259us/step - loss: 1.1927 - accuracy: 0.5487 - val_loss: 1.4621 - val_accuracy: 0.3132\n",
      "Epoch 7/100\n",
      "1520/1520 [==============================] - 0s 253us/step - loss: 1.1399 - accuracy: 0.5704 - val_loss: 1.4454 - val_accuracy: 0.3789\n",
      "Epoch 8/100\n",
      "1520/1520 [==============================] - 0s 244us/step - loss: 1.0796 - accuracy: 0.5849 - val_loss: 1.4182 - val_accuracy: 0.3579\n",
      "Epoch 9/100\n",
      "1520/1520 [==============================] - 0s 239us/step - loss: 1.0494 - accuracy: 0.5809 - val_loss: 1.3598 - val_accuracy: 0.3684\n",
      "Epoch 10/100\n",
      "1520/1520 [==============================] - 0s 238us/step - loss: 1.0226 - accuracy: 0.5855 - val_loss: 1.3215 - val_accuracy: 0.4947\n",
      "Epoch 11/100\n",
      "1520/1520 [==============================] - 0s 236us/step - loss: 1.0159 - accuracy: 0.5855 - val_loss: 1.2939 - val_accuracy: 0.5500\n",
      "Epoch 12/100\n",
      "1520/1520 [==============================] - 0s 235us/step - loss: 1.0034 - accuracy: 0.6013 - val_loss: 1.2940 - val_accuracy: 0.4895\n",
      "Epoch 13/100\n",
      "1520/1520 [==============================] - 0s 234us/step - loss: 0.9775 - accuracy: 0.6164 - val_loss: 1.2821 - val_accuracy: 0.5211\n",
      "Epoch 14/100\n",
      "1520/1520 [==============================] - 0s 236us/step - loss: 0.9540 - accuracy: 0.6230 - val_loss: 1.2728 - val_accuracy: 0.5395\n",
      "Epoch 15/100\n",
      "1520/1520 [==============================] - 0s 234us/step - loss: 0.9314 - accuracy: 0.6336 - val_loss: 1.2485 - val_accuracy: 0.5553\n",
      "Epoch 16/100\n",
      "1520/1520 [==============================] - 0s 241us/step - loss: 0.9167 - accuracy: 0.6401 - val_loss: 1.2296 - val_accuracy: 0.5842\n",
      "Epoch 17/100\n",
      "1520/1520 [==============================] - 0s 233us/step - loss: 0.9179 - accuracy: 0.6434 - val_loss: 1.2113 - val_accuracy: 0.5895\n",
      "Epoch 18/100\n",
      "1520/1520 [==============================] - 0s 240us/step - loss: 0.9199 - accuracy: 0.6382 - val_loss: 1.2186 - val_accuracy: 0.5395\n",
      "Epoch 19/100\n",
      "1520/1520 [==============================] - 0s 230us/step - loss: 0.9219 - accuracy: 0.6362 - val_loss: 1.1783 - val_accuracy: 0.5895\n",
      "Epoch 20/100\n",
      "1520/1520 [==============================] - 0s 232us/step - loss: 0.9286 - accuracy: 0.6336 - val_loss: 1.1492 - val_accuracy: 0.6237\n",
      "Epoch 21/100\n",
      "1520/1520 [==============================] - 0s 242us/step - loss: 0.9150 - accuracy: 0.6375 - val_loss: 1.1362 - val_accuracy: 0.6263\n",
      "Epoch 22/100\n",
      "1520/1520 [==============================] - 0s 247us/step - loss: 0.9121 - accuracy: 0.6474 - val_loss: 1.1976 - val_accuracy: 0.5789\n",
      "Epoch 23/100\n",
      "1520/1520 [==============================] - 0s 253us/step - loss: 0.9121 - accuracy: 0.6355 - val_loss: 1.1121 - val_accuracy: 0.6263\n",
      "Epoch 24/100\n",
      "1520/1520 [==============================] - 0s 261us/step - loss: 0.9095 - accuracy: 0.6395 - val_loss: 1.1259 - val_accuracy: 0.5842\n",
      "Epoch 25/100\n",
      "1520/1520 [==============================] - 0s 258us/step - loss: 0.9022 - accuracy: 0.6461 - val_loss: 1.1013 - val_accuracy: 0.5947\n",
      "Epoch 26/100\n",
      "1520/1520 [==============================] - 0s 255us/step - loss: 0.9000 - accuracy: 0.6414 - val_loss: 1.0766 - val_accuracy: 0.6289\n",
      "Epoch 27/100\n",
      "1520/1520 [==============================] - 0s 257us/step - loss: 0.9010 - accuracy: 0.6395 - val_loss: 1.0897 - val_accuracy: 0.5921\n",
      "Epoch 28/100\n",
      "1520/1520 [==============================] - 0s 255us/step - loss: 0.9036 - accuracy: 0.6428 - val_loss: 1.0949 - val_accuracy: 0.5921\n",
      "Epoch 29/100\n",
      "1520/1520 [==============================] - 0s 256us/step - loss: 0.9024 - accuracy: 0.6408 - val_loss: 1.0771 - val_accuracy: 0.5974\n",
      "Epoch 30/100\n",
      "1520/1520 [==============================] - 0s 258us/step - loss: 0.9009 - accuracy: 0.6461 - val_loss: 1.0509 - val_accuracy: 0.6184\n",
      "Epoch 31/100\n",
      "1520/1520 [==============================] - 0s 252us/step - loss: 0.8996 - accuracy: 0.6382 - val_loss: 1.0568 - val_accuracy: 0.6000\n",
      "Epoch 32/100\n",
      "1520/1520 [==============================] - 0s 248us/step - loss: 0.8907 - accuracy: 0.6447 - val_loss: 1.0381 - val_accuracy: 0.6263\n",
      "Epoch 33/100\n",
      "1520/1520 [==============================] - 0s 249us/step - loss: 0.8918 - accuracy: 0.6539 - val_loss: 1.0451 - val_accuracy: 0.6053\n",
      "Epoch 34/100\n",
      "1520/1520 [==============================] - 0s 246us/step - loss: 0.8903 - accuracy: 0.6428 - val_loss: 0.9901 - val_accuracy: 0.6263\n",
      "Epoch 35/100\n",
      "1520/1520 [==============================] - 0s 244us/step - loss: 0.8968 - accuracy: 0.6401 - val_loss: 0.9934 - val_accuracy: 0.6316\n",
      "Epoch 36/100\n",
      "1520/1520 [==============================] - 0s 254us/step - loss: 0.8880 - accuracy: 0.6441 - val_loss: 1.0657 - val_accuracy: 0.5579\n",
      "Epoch 37/100\n",
      "1520/1520 [==============================] - 0s 249us/step - loss: 0.8870 - accuracy: 0.6493 - val_loss: 0.9809 - val_accuracy: 0.6158\n",
      "Epoch 38/100\n",
      "1520/1520 [==============================] - 0s 244us/step - loss: 0.8878 - accuracy: 0.6467 - val_loss: 0.9863 - val_accuracy: 0.6263\n",
      "Epoch 39/100\n",
      "1520/1520 [==============================] - 0s 246us/step - loss: 0.8815 - accuracy: 0.6493 - val_loss: 1.0281 - val_accuracy: 0.5737\n",
      "Epoch 40/100\n",
      "1520/1520 [==============================] - 0s 245us/step - loss: 0.8795 - accuracy: 0.6461 - val_loss: 0.9675 - val_accuracy: 0.6132\n",
      "Epoch 41/100\n",
      "1520/1520 [==============================] - 0s 247us/step - loss: 0.8811 - accuracy: 0.6421 - val_loss: 0.9706 - val_accuracy: 0.6184\n",
      "Epoch 42/100\n",
      "1520/1520 [==============================] - 0s 250us/step - loss: 0.8776 - accuracy: 0.6513 - val_loss: 0.9625 - val_accuracy: 0.6132\n",
      "Epoch 43/100\n",
      "1520/1520 [==============================] - 0s 250us/step - loss: 0.8750 - accuracy: 0.6493 - val_loss: 0.9872 - val_accuracy: 0.6079\n",
      "Epoch 44/100\n",
      "1520/1520 [==============================] - 0s 248us/step - loss: 0.8702 - accuracy: 0.6480 - val_loss: 0.9903 - val_accuracy: 0.6132\n",
      "Epoch 45/100\n",
      "1520/1520 [==============================] - 0s 252us/step - loss: 0.8753 - accuracy: 0.6500 - val_loss: 0.9634 - val_accuracy: 0.6158\n",
      "Epoch 46/100\n",
      "1520/1520 [==============================] - 0s 253us/step - loss: 0.8681 - accuracy: 0.6513 - val_loss: 0.9321 - val_accuracy: 0.6211\n",
      "Epoch 47/100\n",
      "1520/1520 [==============================] - 0s 246us/step - loss: 0.8607 - accuracy: 0.6579 - val_loss: 0.9479 - val_accuracy: 0.6079\n",
      "Epoch 48/100\n",
      "1520/1520 [==============================] - 0s 250us/step - loss: 0.8816 - accuracy: 0.6388 - val_loss: 0.9316 - val_accuracy: 0.6289\n",
      "Epoch 49/100\n",
      "1520/1520 [==============================] - 0s 242us/step - loss: 0.8660 - accuracy: 0.6487 - val_loss: 0.9090 - val_accuracy: 0.6447\n",
      "Epoch 50/100\n",
      "1520/1520 [==============================] - 0s 251us/step - loss: 0.8613 - accuracy: 0.6454 - val_loss: 0.9098 - val_accuracy: 0.6289\n",
      "Epoch 51/100\n",
      "1520/1520 [==============================] - 0s 251us/step - loss: 0.8605 - accuracy: 0.6539 - val_loss: 0.9217 - val_accuracy: 0.6158\n",
      "Epoch 52/100\n",
      "1520/1520 [==============================] - 0s 249us/step - loss: 0.8585 - accuracy: 0.6474 - val_loss: 0.9409 - val_accuracy: 0.6105\n",
      "Epoch 53/100\n",
      "1520/1520 [==============================] - 0s 246us/step - loss: 0.8535 - accuracy: 0.6520 - val_loss: 0.9269 - val_accuracy: 0.6342\n",
      "Epoch 54/100\n",
      "1520/1520 [==============================] - 0s 249us/step - loss: 0.8542 - accuracy: 0.6526 - val_loss: 0.9352 - val_accuracy: 0.5974\n",
      "Epoch 55/100\n",
      "1520/1520 [==============================] - 0s 245us/step - loss: 0.8460 - accuracy: 0.6546 - val_loss: 0.9343 - val_accuracy: 0.6026\n",
      "Epoch 56/100\n"
     ]
    },
    {
     "name": "stdout",
     "output_type": "stream",
     "text": [
      "1520/1520 [==============================] - 0s 245us/step - loss: 0.8468 - accuracy: 0.6454 - val_loss: 0.9528 - val_accuracy: 0.6158\n",
      "Epoch 57/100\n",
      "1520/1520 [==============================] - 0s 239us/step - loss: 0.8485 - accuracy: 0.6553 - val_loss: 0.9118 - val_accuracy: 0.6079\n",
      "Epoch 58/100\n",
      "1520/1520 [==============================] - 0s 247us/step - loss: 0.8499 - accuracy: 0.6467 - val_loss: 0.9385 - val_accuracy: 0.6184\n",
      "Epoch 59/100\n",
      "1520/1520 [==============================] - 0s 253us/step - loss: 0.8498 - accuracy: 0.6572 - val_loss: 0.9488 - val_accuracy: 0.5947\n",
      "Epoch 60/100\n",
      "1520/1520 [==============================] - 0s 251us/step - loss: 0.8566 - accuracy: 0.6480 - val_loss: 0.9391 - val_accuracy: 0.5895\n",
      "Epoch 61/100\n",
      "1520/1520 [==============================] - 0s 256us/step - loss: 0.8440 - accuracy: 0.6507 - val_loss: 0.9572 - val_accuracy: 0.6105\n",
      "Epoch 62/100\n",
      "1520/1520 [==============================] - 0s 250us/step - loss: 0.8549 - accuracy: 0.6500 - val_loss: 0.9699 - val_accuracy: 0.6263\n",
      "Epoch 63/100\n",
      "1520/1520 [==============================] - 0s 250us/step - loss: 0.8523 - accuracy: 0.6474 - val_loss: 0.9194 - val_accuracy: 0.6211\n",
      "Epoch 64/100\n",
      "1520/1520 [==============================] - 0s 249us/step - loss: 0.8414 - accuracy: 0.6520 - val_loss: 0.9194 - val_accuracy: 0.6184\n",
      "Epoch 65/100\n",
      "1520/1520 [==============================] - 0s 242us/step - loss: 0.8406 - accuracy: 0.6487 - val_loss: 0.9447 - val_accuracy: 0.6184\n",
      "Epoch 66/100\n",
      "1520/1520 [==============================] - 0s 246us/step - loss: 0.8331 - accuracy: 0.6678 - val_loss: 0.9228 - val_accuracy: 0.6211\n",
      "Epoch 67/100\n",
      "1520/1520 [==============================] - 0s 241us/step - loss: 0.8279 - accuracy: 0.6645 - val_loss: 0.9324 - val_accuracy: 0.6053\n",
      "Epoch 68/100\n",
      "1520/1520 [==============================] - 0s 251us/step - loss: 0.8371 - accuracy: 0.6618 - val_loss: 0.9212 - val_accuracy: 0.6079\n",
      "Epoch 69/100\n",
      "1520/1520 [==============================] - 0s 254us/step - loss: 0.8330 - accuracy: 0.6566 - val_loss: 0.9062 - val_accuracy: 0.6289\n",
      "Epoch 70/100\n",
      "1520/1520 [==============================] - 0s 280us/step - loss: 0.8288 - accuracy: 0.6651 - val_loss: 0.9452 - val_accuracy: 0.5816\n",
      "Epoch 71/100\n",
      "1520/1520 [==============================] - 0s 279us/step - loss: 0.8162 - accuracy: 0.6691 - val_loss: 0.9506 - val_accuracy: 0.5974\n",
      "Epoch 72/100\n",
      "1520/1520 [==============================] - 0s 290us/step - loss: 0.8113 - accuracy: 0.6750 - val_loss: 0.9280 - val_accuracy: 0.6105\n",
      "Epoch 73/100\n",
      "1520/1520 [==============================] - 0s 294us/step - loss: 0.8125 - accuracy: 0.6632 - val_loss: 0.9155 - val_accuracy: 0.6289\n",
      "Epoch 74/100\n",
      "1520/1520 [==============================] - 0s 263us/step - loss: 0.8282 - accuracy: 0.6586 - val_loss: 0.9016 - val_accuracy: 0.6263\n",
      "Epoch 75/100\n",
      "1520/1520 [==============================] - 0s 239us/step - loss: 0.8201 - accuracy: 0.6711 - val_loss: 0.9344 - val_accuracy: 0.5921\n",
      "Epoch 76/100\n",
      "1520/1520 [==============================] - 0s 245us/step - loss: 0.8271 - accuracy: 0.6599 - val_loss: 0.9916 - val_accuracy: 0.5921\n",
      "Epoch 77/100\n",
      "1520/1520 [==============================] - 0s 244us/step - loss: 0.8173 - accuracy: 0.6658 - val_loss: 0.9024 - val_accuracy: 0.6342\n",
      "Epoch 78/100\n",
      "1520/1520 [==============================] - 0s 238us/step - loss: 0.8081 - accuracy: 0.6724 - val_loss: 0.9014 - val_accuracy: 0.6263\n",
      "Epoch 79/100\n",
      "1520/1520 [==============================] - 0s 247us/step - loss: 0.8010 - accuracy: 0.6678 - val_loss: 0.9544 - val_accuracy: 0.6316\n",
      "Epoch 80/100\n",
      "1520/1520 [==============================] - 0s 250us/step - loss: 0.8063 - accuracy: 0.6711 - val_loss: 0.9757 - val_accuracy: 0.6158\n",
      "Epoch 81/100\n",
      "1520/1520 [==============================] - 0s 249us/step - loss: 0.8175 - accuracy: 0.6605 - val_loss: 0.9319 - val_accuracy: 0.6289\n",
      "Epoch 82/100\n",
      "1520/1520 [==============================] - 0s 238us/step - loss: 0.8102 - accuracy: 0.6618 - val_loss: 1.0108 - val_accuracy: 0.6263\n",
      "Epoch 83/100\n",
      "1520/1520 [==============================] - 0s 235us/step - loss: 0.8012 - accuracy: 0.6704 - val_loss: 0.8903 - val_accuracy: 0.6447\n",
      "Epoch 84/100\n",
      "1520/1520 [==============================] - 0s 233us/step - loss: 0.8051 - accuracy: 0.6697 - val_loss: 0.9098 - val_accuracy: 0.6368\n",
      "Epoch 85/100\n",
      "1520/1520 [==============================] - 0s 232us/step - loss: 0.7956 - accuracy: 0.6658 - val_loss: 0.9286 - val_accuracy: 0.6342\n",
      "Epoch 86/100\n",
      "1520/1520 [==============================] - 0s 240us/step - loss: 0.8149 - accuracy: 0.6743 - val_loss: 0.8941 - val_accuracy: 0.6368\n",
      "Epoch 87/100\n",
      "1520/1520 [==============================] - 0s 236us/step - loss: 0.8218 - accuracy: 0.6651 - val_loss: 0.9535 - val_accuracy: 0.6368\n",
      "Epoch 88/100\n",
      "1520/1520 [==============================] - 0s 233us/step - loss: 0.8035 - accuracy: 0.6724 - val_loss: 1.0272 - val_accuracy: 0.6132\n",
      "Epoch 89/100\n",
      "1520/1520 [==============================] - 0s 236us/step - loss: 0.8056 - accuracy: 0.6730 - val_loss: 0.8802 - val_accuracy: 0.6553\n",
      "Epoch 90/100\n",
      "1520/1520 [==============================] - 0s 240us/step - loss: 0.7976 - accuracy: 0.6717 - val_loss: 0.9082 - val_accuracy: 0.6342\n",
      "Epoch 91/100\n",
      "1520/1520 [==============================] - 0s 246us/step - loss: 0.7869 - accuracy: 0.6743 - val_loss: 0.9264 - val_accuracy: 0.6395\n",
      "Epoch 92/100\n",
      "1520/1520 [==============================] - 0s 245us/step - loss: 0.7816 - accuracy: 0.6750 - val_loss: 0.9239 - val_accuracy: 0.6579\n",
      "Epoch 93/100\n",
      "1520/1520 [==============================] - 0s 249us/step - loss: 0.7937 - accuracy: 0.6651 - val_loss: 0.8718 - val_accuracy: 0.6605\n",
      "Epoch 94/100\n",
      "1520/1520 [==============================] - 0s 250us/step - loss: 0.7988 - accuracy: 0.6743 - val_loss: 1.0222 - val_accuracy: 0.5763\n",
      "Epoch 95/100\n",
      "1520/1520 [==============================] - 0s 242us/step - loss: 0.7994 - accuracy: 0.6678 - val_loss: 0.8949 - val_accuracy: 0.6553\n",
      "Epoch 96/100\n",
      "1520/1520 [==============================] - 0s 249us/step - loss: 0.7925 - accuracy: 0.6697 - val_loss: 0.9202 - val_accuracy: 0.6447\n",
      "Epoch 97/100\n",
      "1520/1520 [==============================] - 0s 264us/step - loss: 0.7808 - accuracy: 0.6730 - val_loss: 0.9310 - val_accuracy: 0.6447\n",
      "Epoch 98/100\n",
      "1520/1520 [==============================] - 0s 252us/step - loss: 0.7836 - accuracy: 0.6737 - val_loss: 0.8853 - val_accuracy: 0.6447\n",
      "Epoch 99/100\n",
      "1520/1520 [==============================] - 0s 249us/step - loss: 0.7876 - accuracy: 0.6737 - val_loss: 0.9523 - val_accuracy: 0.6474\n",
      "Epoch 100/100\n",
      "1520/1520 [==============================] - 0s 250us/step - loss: 0.7767 - accuracy: 0.6776 - val_loss: 0.9208 - val_accuracy: 0.6421\n"
     ]
    }
   ],
   "source": [
    "history=model.fit(X_train, y_train, epochs=100, batch_size=200, validation_split=0.2,shuffle=True)"
   ]
  },
  {
   "cell_type": "code",
   "execution_count": 200,
   "metadata": {},
   "outputs": [
    {
     "data": {
      "image/png": "[encoded data removed]",
      "text/plain": [
       "<Figure size 432x288 with 1 Axes>"
      ]
     },
     "metadata": {
      "needs_background": "light"
     },
     "output_type": "display_data"
    },
    {
     "name": "stdout",
     "output_type": "stream",
     "text": [
      "dict_keys(['val_loss', 'val_accuracy', 'loss', 'accuracy'])\n"
     ]
    },
    {
     "data": {
      "image/png": "[encoded data removed]",
      "text/plain": [
       "<Figure size 432x288 with 1 Axes>"
      ]
     },
     "metadata": {
      "needs_background": "light"
     },
     "output_type": "display_data"
    }
   ],
   "source": [
    "from pylab import rcParams\n",
    "# summarize history for loss\n",
    "plt.plot(history.history['loss'])\n",
    "plt.plot(history.history['val_loss'])\n",
    "plt.title('model loss')\n",
    "plt.ylabel('loss')\n",
    "plt.xlabel('epoch')\n",
    "plt.legend(['train', 'test'], loc='upper left')\n",
    "plt.show()\n",
    "print(history.history.keys())\n",
    "#  \"Accuracy\"\n",
    "plt.plot(history.history['accuracy'])\n",
    "plt.plot(history.history['val_accuracy'])\n",
    "plt.title('model accuracy')\n",
    "plt.ylabel('accuracy')\n",
    "plt.xlabel('epoch')\n",
    "plt.legend(['train', 'validation'], loc='upper left')\n",
    "plt.show()"
   ]
  },
  {
   "cell_type": "code",
   "execution_count": 201,
   "metadata": {},
   "outputs": [],
   "source": [
    "x=model.predict(X_test)"
   ]
  },
  {
   "cell_type": "code",
   "execution_count": 202,
   "metadata": {},
   "outputs": [],
   "source": [
    "import tensorflow as tf\n",
    "index = tf.argmax(x,axis=1)"
   ]
  },
  {
   "cell_type": "code",
   "execution_count": 203,
   "metadata": {},
   "outputs": [],
   "source": [
    "z=np.array(index)"
   ]
  },
  {
   "cell_type": "code",
   "execution_count": 204,
   "metadata": {
    "scrolled": true
   },
   "outputs": [
    {
     "name": "stdout",
     "output_type": "stream",
     "text": [
      "[[ 29   9   0  15]\n",
      " [ 14 113   5  43]\n",
      " [  6   8  34  22]\n",
      " [ 23  16   5 134]]\n"
     ]
    }
   ],
   "source": [
    "print(confusion_matrix(y_test, z))"
   ]
  },
  {
   "cell_type": "code",
   "execution_count": 205,
   "metadata": {},
   "outputs": [],
   "source": [
    "d=confusion_matrix(y_test, z)"
   ]
  },
  {
   "cell_type": "code",
   "execution_count": 206,
   "metadata": {},
   "outputs": [
    {
     "name": "stdout",
     "output_type": "stream",
     "text": [
      "              precision    recall  f1-score   support\n",
      "\n",
      "           1       0.40      0.55      0.46        53\n",
      "           2       0.77      0.65      0.70       175\n",
      "           3       0.77      0.49      0.60        70\n",
      "           4       0.63      0.75      0.68       178\n",
      "\n",
      "    accuracy                           0.65       476\n",
      "   macro avg       0.64      0.61      0.61       476\n",
      "weighted avg       0.68      0.65      0.65       476\n",
      "\n"
     ]
    }
   ],
   "source": [
    "print(classification_report(y_test, z)) "
   ]
  },
  {
   "cell_type": "code",
   "execution_count": 207,
   "metadata": {},
   "outputs": [
    {
     "ename": "ValueError",
     "evalue": "Shape of passed values is (4, 4), indices imply (8, 8)",
     "output_type": "error",
     "traceback": [
      "\u001b[0;31m---------------------------------------------------------------------------\u001b[0m",
      "\u001b[0;31mValueError\u001b[0m                                Traceback (most recent call last)",
      "\u001b[0;32m~/opt/anaconda3/lib/python3.7/site-packages/pandas/core/internals/managers.py\u001b[0m in \u001b[0;36mcreate_block_manager_from_blocks\u001b[0;34m(blocks, axes)\u001b[0m\n\u001b[1;32m   1677\u001b[0m                 blocks = [\n\u001b[0;32m-> 1678\u001b[0;31m                     \u001b[0mmake_block\u001b[0m\u001b[0;34m(\u001b[0m\u001b[0mvalues\u001b[0m\u001b[0;34m=\u001b[0m\u001b[0mblocks\u001b[0m\u001b[0;34m[\u001b[0m\u001b[0;36m0\u001b[0m\u001b[0;34m]\u001b[0m\u001b[0;34m,\u001b[0m \u001b[0mplacement\u001b[0m\u001b[0;34m=\u001b[0m\u001b[0mslice\u001b[0m\u001b[0;34m(\u001b[0m\u001b[0;36m0\u001b[0m\u001b[0;34m,\u001b[0m \u001b[0mlen\u001b[0m\u001b[0;34m(\u001b[0m\u001b[0maxes\u001b[0m\u001b[0;34m[\u001b[0m\u001b[0;36m0\u001b[0m\u001b[0;34m]\u001b[0m\u001b[0;34m)\u001b[0m\u001b[0;34m)\u001b[0m\u001b[0;34m)\u001b[0m\u001b[0;34m\u001b[0m\u001b[0;34m\u001b[0m\u001b[0m\n\u001b[0m\u001b[1;32m   1679\u001b[0m                 ]\n",
      "\u001b[0;32m~/opt/anaconda3/lib/python3.7/site-packages/pandas/core/internals/blocks.py\u001b[0m in \u001b[0;36mmake_block\u001b[0;34m(values, placement, klass, ndim, dtype, fastpath)\u001b[0m\n\u001b[1;32m   3266\u001b[0m \u001b[0;34m\u001b[0m\u001b[0m\n\u001b[0;32m-> 3267\u001b[0;31m     \u001b[0;32mreturn\u001b[0m \u001b[0mklass\u001b[0m\u001b[0;34m(\u001b[0m\u001b[0mvalues\u001b[0m\u001b[0;34m,\u001b[0m \u001b[0mndim\u001b[0m\u001b[0;34m=\u001b[0m\u001b[0mndim\u001b[0m\u001b[0;34m,\u001b[0m \u001b[0mplacement\u001b[0m\u001b[0;34m=\u001b[0m\u001b[0mplacement\u001b[0m\u001b[0;34m)\u001b[0m\u001b[0;34m\u001b[0m\u001b[0;34m\u001b[0m\u001b[0m\n\u001b[0m\u001b[1;32m   3268\u001b[0m \u001b[0;34m\u001b[0m\u001b[0m\n",
      "\u001b[0;32m~/opt/anaconda3/lib/python3.7/site-packages/pandas/core/internals/blocks.py\u001b[0m in \u001b[0;36m__init__\u001b[0;34m(self, values, placement, ndim)\u001b[0m\n\u001b[1;32m    127\u001b[0m                 \u001b[0;34m\"Wrong number of items passed {val}, placement implies \"\u001b[0m\u001b[0;34m\u001b[0m\u001b[0;34m\u001b[0m\u001b[0m\n\u001b[0;32m--> 128\u001b[0;31m                 \u001b[0;34m\"{mgr}\"\u001b[0m\u001b[0;34m.\u001b[0m\u001b[0mformat\u001b[0m\u001b[0;34m(\u001b[0m\u001b[0mval\u001b[0m\u001b[0;34m=\u001b[0m\u001b[0mlen\u001b[0m\u001b[0;34m(\u001b[0m\u001b[0mself\u001b[0m\u001b[0;34m.\u001b[0m\u001b[0mvalues\u001b[0m\u001b[0;34m)\u001b[0m\u001b[0;34m,\u001b[0m \u001b[0mmgr\u001b[0m\u001b[0;34m=\u001b[0m\u001b[0mlen\u001b[0m\u001b[0;34m(\u001b[0m\u001b[0mself\u001b[0m\u001b[0;34m.\u001b[0m\u001b[0mmgr_locs\u001b[0m\u001b[0;34m)\u001b[0m\u001b[0;34m)\u001b[0m\u001b[0;34m\u001b[0m\u001b[0;34m\u001b[0m\u001b[0m\n\u001b[0m\u001b[1;32m    129\u001b[0m             )\n",
      "\u001b[0;31mValueError\u001b[0m: Wrong number of items passed 4, placement implies 8",
      "\nDuring handling of the above exception, another exception occurred:\n",
      "\u001b[0;31mValueError\u001b[0m                                Traceback (most recent call last)",
      "\u001b[0;32m<ipython-input-207-b37c029ee12f>\u001b[0m in \u001b[0;36m<module>\u001b[0;34m\u001b[0m\n\u001b[1;32m      3\u001b[0m \u001b[0;32mimport\u001b[0m \u001b[0mmatplotlib\u001b[0m\u001b[0;34m.\u001b[0m\u001b[0mpyplot\u001b[0m \u001b[0;32mas\u001b[0m \u001b[0mplt\u001b[0m\u001b[0;34m\u001b[0m\u001b[0;34m\u001b[0m\u001b[0m\n\u001b[1;32m      4\u001b[0m df_cm = pd.DataFrame(d, index = [i for i in \"12345678\"],\n\u001b[0;32m----> 5\u001b[0;31m               columns = [i for i in \"12345678\"])\n\u001b[0m\u001b[1;32m      6\u001b[0m \u001b[0mplt\u001b[0m\u001b[0;34m.\u001b[0m\u001b[0mfigure\u001b[0m\u001b[0;34m(\u001b[0m\u001b[0;34m)\u001b[0m\u001b[0;34m\u001b[0m\u001b[0;34m\u001b[0m\u001b[0m\n\u001b[1;32m      7\u001b[0m \u001b[0msn\u001b[0m\u001b[0;34m.\u001b[0m\u001b[0mheatmap\u001b[0m\u001b[0;34m(\u001b[0m\u001b[0mdf_cm\u001b[0m\u001b[0;34m,\u001b[0m \u001b[0mannot\u001b[0m\u001b[0;34m=\u001b[0m\u001b[0;32mTrue\u001b[0m\u001b[0;34m,\u001b[0m\u001b[0mcmap\u001b[0m\u001b[0;34m=\u001b[0m\u001b[0;34m\"Blues\"\u001b[0m\u001b[0;34m)\u001b[0m\u001b[0;34m\u001b[0m\u001b[0;34m\u001b[0m\u001b[0m\n",
      "\u001b[0;32m~/opt/anaconda3/lib/python3.7/site-packages/pandas/core/frame.py\u001b[0m in \u001b[0;36m__init__\u001b[0;34m(self, data, index, columns, dtype, copy)\u001b[0m\n\u001b[1;32m    438\u001b[0m                 \u001b[0mmgr\u001b[0m \u001b[0;34m=\u001b[0m \u001b[0minit_dict\u001b[0m\u001b[0;34m(\u001b[0m\u001b[0;34m{\u001b[0m\u001b[0mdata\u001b[0m\u001b[0;34m.\u001b[0m\u001b[0mname\u001b[0m\u001b[0;34m:\u001b[0m \u001b[0mdata\u001b[0m\u001b[0;34m}\u001b[0m\u001b[0;34m,\u001b[0m \u001b[0mindex\u001b[0m\u001b[0;34m,\u001b[0m \u001b[0mcolumns\u001b[0m\u001b[0;34m,\u001b[0m \u001b[0mdtype\u001b[0m\u001b[0;34m=\u001b[0m\u001b[0mdtype\u001b[0m\u001b[0;34m)\u001b[0m\u001b[0;34m\u001b[0m\u001b[0;34m\u001b[0m\u001b[0m\n\u001b[1;32m    439\u001b[0m             \u001b[0;32melse\u001b[0m\u001b[0;34m:\u001b[0m\u001b[0;34m\u001b[0m\u001b[0;34m\u001b[0m\u001b[0m\n\u001b[0;32m--> 440\u001b[0;31m                 \u001b[0mmgr\u001b[0m \u001b[0;34m=\u001b[0m \u001b[0minit_ndarray\u001b[0m\u001b[0;34m(\u001b[0m\u001b[0mdata\u001b[0m\u001b[0;34m,\u001b[0m \u001b[0mindex\u001b[0m\u001b[0;34m,\u001b[0m \u001b[0mcolumns\u001b[0m\u001b[0;34m,\u001b[0m \u001b[0mdtype\u001b[0m\u001b[0;34m=\u001b[0m\u001b[0mdtype\u001b[0m\u001b[0;34m,\u001b[0m \u001b[0mcopy\u001b[0m\u001b[0;34m=\u001b[0m\u001b[0mcopy\u001b[0m\u001b[0;34m)\u001b[0m\u001b[0;34m\u001b[0m\u001b[0;34m\u001b[0m\u001b[0m\n\u001b[0m\u001b[1;32m    441\u001b[0m \u001b[0;34m\u001b[0m\u001b[0m\n\u001b[1;32m    442\u001b[0m         \u001b[0;31m# For data is list-like, or Iterable (will consume into list)\u001b[0m\u001b[0;34m\u001b[0m\u001b[0;34m\u001b[0m\u001b[0;34m\u001b[0m\u001b[0m\n",
      "\u001b[0;32m~/opt/anaconda3/lib/python3.7/site-packages/pandas/core/internals/construction.py\u001b[0m in \u001b[0;36minit_ndarray\u001b[0;34m(values, index, columns, dtype, copy)\u001b[0m\n\u001b[1;32m    211\u001b[0m         \u001b[0mblock_values\u001b[0m \u001b[0;34m=\u001b[0m \u001b[0;34m[\u001b[0m\u001b[0mvalues\u001b[0m\u001b[0;34m]\u001b[0m\u001b[0;34m\u001b[0m\u001b[0;34m\u001b[0m\u001b[0m\n\u001b[1;32m    212\u001b[0m \u001b[0;34m\u001b[0m\u001b[0m\n\u001b[0;32m--> 213\u001b[0;31m     \u001b[0;32mreturn\u001b[0m \u001b[0mcreate_block_manager_from_blocks\u001b[0m\u001b[0;34m(\u001b[0m\u001b[0mblock_values\u001b[0m\u001b[0;34m,\u001b[0m \u001b[0;34m[\u001b[0m\u001b[0mcolumns\u001b[0m\u001b[0;34m,\u001b[0m \u001b[0mindex\u001b[0m\u001b[0;34m]\u001b[0m\u001b[0;34m)\u001b[0m\u001b[0;34m\u001b[0m\u001b[0;34m\u001b[0m\u001b[0m\n\u001b[0m\u001b[1;32m    214\u001b[0m \u001b[0;34m\u001b[0m\u001b[0m\n\u001b[1;32m    215\u001b[0m \u001b[0;34m\u001b[0m\u001b[0m\n",
      "\u001b[0;32m~/opt/anaconda3/lib/python3.7/site-packages/pandas/core/internals/managers.py\u001b[0m in \u001b[0;36mcreate_block_manager_from_blocks\u001b[0;34m(blocks, axes)\u001b[0m\n\u001b[1;32m   1686\u001b[0m         \u001b[0mblocks\u001b[0m \u001b[0;34m=\u001b[0m \u001b[0;34m[\u001b[0m\u001b[0mgetattr\u001b[0m\u001b[0;34m(\u001b[0m\u001b[0mb\u001b[0m\u001b[0;34m,\u001b[0m \u001b[0;34m\"values\"\u001b[0m\u001b[0;34m,\u001b[0m \u001b[0mb\u001b[0m\u001b[0;34m)\u001b[0m \u001b[0;32mfor\u001b[0m \u001b[0mb\u001b[0m \u001b[0;32min\u001b[0m \u001b[0mblocks\u001b[0m\u001b[0;34m]\u001b[0m\u001b[0;34m\u001b[0m\u001b[0;34m\u001b[0m\u001b[0m\n\u001b[1;32m   1687\u001b[0m         \u001b[0mtot_items\u001b[0m \u001b[0;34m=\u001b[0m \u001b[0msum\u001b[0m\u001b[0;34m(\u001b[0m\u001b[0mb\u001b[0m\u001b[0;34m.\u001b[0m\u001b[0mshape\u001b[0m\u001b[0;34m[\u001b[0m\u001b[0;36m0\u001b[0m\u001b[0;34m]\u001b[0m \u001b[0;32mfor\u001b[0m \u001b[0mb\u001b[0m \u001b[0;32min\u001b[0m \u001b[0mblocks\u001b[0m\u001b[0;34m)\u001b[0m\u001b[0;34m\u001b[0m\u001b[0;34m\u001b[0m\u001b[0m\n\u001b[0;32m-> 1688\u001b[0;31m         \u001b[0mconstruction_error\u001b[0m\u001b[0;34m(\u001b[0m\u001b[0mtot_items\u001b[0m\u001b[0;34m,\u001b[0m \u001b[0mblocks\u001b[0m\u001b[0;34m[\u001b[0m\u001b[0;36m0\u001b[0m\u001b[0;34m]\u001b[0m\u001b[0;34m.\u001b[0m\u001b[0mshape\u001b[0m\u001b[0;34m[\u001b[0m\u001b[0;36m1\u001b[0m\u001b[0;34m:\u001b[0m\u001b[0;34m]\u001b[0m\u001b[0;34m,\u001b[0m \u001b[0maxes\u001b[0m\u001b[0;34m,\u001b[0m \u001b[0me\u001b[0m\u001b[0;34m)\u001b[0m\u001b[0;34m\u001b[0m\u001b[0;34m\u001b[0m\u001b[0m\n\u001b[0m\u001b[1;32m   1689\u001b[0m \u001b[0;34m\u001b[0m\u001b[0m\n\u001b[1;32m   1690\u001b[0m \u001b[0;34m\u001b[0m\u001b[0m\n",
      "\u001b[0;32m~/opt/anaconda3/lib/python3.7/site-packages/pandas/core/internals/managers.py\u001b[0m in \u001b[0;36mconstruction_error\u001b[0;34m(tot_items, block_shape, axes, e)\u001b[0m\n\u001b[1;32m   1717\u001b[0m         \u001b[0;32mraise\u001b[0m \u001b[0mValueError\u001b[0m\u001b[0;34m(\u001b[0m\u001b[0;34m\"Empty data passed with indices specified.\"\u001b[0m\u001b[0;34m)\u001b[0m\u001b[0;34m\u001b[0m\u001b[0;34m\u001b[0m\u001b[0m\n\u001b[1;32m   1718\u001b[0m     raise ValueError(\n\u001b[0;32m-> 1719\u001b[0;31m         \u001b[0;34m\"Shape of passed values is {0}, indices imply {1}\"\u001b[0m\u001b[0;34m.\u001b[0m\u001b[0mformat\u001b[0m\u001b[0;34m(\u001b[0m\u001b[0mpassed\u001b[0m\u001b[0;34m,\u001b[0m \u001b[0mimplied\u001b[0m\u001b[0;34m)\u001b[0m\u001b[0;34m\u001b[0m\u001b[0;34m\u001b[0m\u001b[0m\n\u001b[0m\u001b[1;32m   1720\u001b[0m     )\n\u001b[1;32m   1721\u001b[0m \u001b[0;34m\u001b[0m\u001b[0m\n",
      "\u001b[0;31mValueError\u001b[0m: Shape of passed values is (4, 4), indices imply (8, 8)"
     ]
    }
   ],
   "source": [
    "import seaborn as sn\n",
    "import pandas as pd\n",
    "import matplotlib.pyplot as plt\n",
    "df_cm = pd.DataFrame(d, index = [i for i in \"12345678\"],\n",
    "              columns = [i for i in \"12345678\"])\n",
    "plt.figure()\n",
    "sn.heatmap(df_cm, annot=True,cmap=\"Blues\")"
   ]
  },
  {
   "cell_type": "markdown",
   "metadata": {},
   "source": [
    "### gait = pd.read_csv(\"gaitFullModified2.csv\")"
   ]
  },
  {
   "cell_type": "code",
   "execution_count": null,
   "metadata": {},
   "outputs": [],
   "source": [
    "X = gait.drop('label',  axis=1)\n",
    "y = gait['label']"
   ]
  },
  {
   "cell_type": "code",
   "execution_count": null,
   "metadata": {},
   "outputs": [],
   "source": [
    "X_train, X_test, y_train, y_test = train_test_split(X, y, test_size=0.2,random_state=42)"
   ]
  },
  {
   "cell_type": "code",
   "execution_count": null,
   "metadata": {},
   "outputs": [],
   "source": []
  },
  {
   "cell_type": "code",
   "execution_count": 208,
   "metadata": {},
   "outputs": [
    {
     "data": {
      "text/plain": [
       "<matplotlib.axes._subplots.AxesSubplot at 0x7fef98180210>"
      ]
     },
     "execution_count": 208,
     "metadata": {},
     "output_type": "execute_result"
    },
    {
     "data": {
      "image/png": "[encoded data removed]",
      "text/plain": [
       "<Figure size 432x288 with 2 Axes>"
      ]
     },
     "metadata": {
      "needs_background": "light"
     },
     "output_type": "display_data"
    }
   ],
   "source": [
    "import seaborn as sn\n",
    "import pandas as pd\n",
    "import matplotlib.pyplot as plt\n",
    "df_cm = pd.DataFrame(d, index = [i for i in \"1234\"],\n",
    "              columns = [i for i in \"1234\"])\n",
    "plt.figure()\n",
    "sn.heatmap(df_cm, annot=True,cmap=\"Blues\")"
   ]
  },
  {
   "cell_type": "code",
   "execution_count": null,
   "metadata": {},
   "outputs": [],
   "source": [
    "model = Sequential()\n",
    "n_timesteps, n_features, n_outputs = X_train.shape[1], X_train.shape[2], y_train.shape[1]\n",
    "\n",
    "model.add(Conv1D(100, kernel_size=5, input_shape=(n_timesteps, n_features)))\n",
    "model.add(LSTM(100,\n",
    "         return_sequences=False,activation='relu'))\n",
    "\n",
    "model.add(Dropout(0.5))\n",
    "#model.add(Flatten())\n",
    "\n",
    "\n",
    "#model.add(LSTM(units=50,\n",
    " #        return_sequences=False))\n",
    "#model.add(Dropout(0.2))\n",
    "\n",
    "#model.add(Dense(200, activation='relu'))\n",
    "#model.add(Dense(100, activation='relu'))\n",
    "model.add(Dense(units=n_outputs, activation='sigmoid'))\n",
    "model.compile(optimizer = Adam(lr = 0.0005),loss='categorical_crossentropy',metrics=['accuracy'])\n",
    "model.summary()"
   ]
  },
  {
   "cell_type": "code",
   "execution_count": null,
   "metadata": {},
   "outputs": [],
   "source": []
  },
  {
   "cell_type": "code",
   "execution_count": null,
   "metadata": {},
   "outputs": [],
   "source": [
    "  # Instantiate a SimpleMinCostFlow solver.\n",
    "  min_cost_flow = pywrapgraph.SimpleMinCostFlow()\n",
    "\n",
    "  # Add each arc.\n",
    "  for i in range(0, len(start_nodes)):\n",
    "    min_cost_flow.AddArcWithCapacityAndUnitCost(start_nodes[i], end_nodes[i],\n",
    "                                                capacities[i], unit_costs[i])\n",
    "\n",
    "  # Add node supplies.\n",
    "\n",
    "  for i in range(0, len(supplies)):\n",
    "    min_cost_flow.SetNodeSupply(i, supplies[i])"
   ]
  },
  {
   "cell_type": "code",
   "execution_count": null,
   "metadata": {},
   "outputs": [],
   "source": []
  },
  {
   "cell_type": "code",
   "execution_count": null,
   "metadata": {},
   "outputs": [],
   "source": []
  },
  {
   "cell_type": "code",
   "execution_count": null,
   "metadata": {},
   "outputs": [],
   "source": []
  },
  {
   "cell_type": "code",
   "execution_count": null,
   "metadata": {},
   "outputs": [],
   "source": []
  },
  {
   "cell_type": "code",
   "execution_count": null,
   "metadata": {},
   "outputs": [],
   "source": []
  },
  {
   "cell_type": "code",
   "execution_count": null,
   "metadata": {},
   "outputs": [],
   "source": []
  }
 ],
 "metadata": {
  "kernelspec": {
   "display_name": "Python 3",
   "language": "python",
   "name": "python3"
  },
  "language_info": {
   "codemirror_mode": {
    "name": "ipython",
    "version": 3
   },
   "file_extension": ".py",
   "mimetype": "text/x-python",
   "name": "python",
   "nbconvert_exporter": "python",
   "pygments_lexer": "ipython3",
   "version": "3.7.4"
  }
 },
 "nbformat": 4,
 "nbformat_minor": 2
}
