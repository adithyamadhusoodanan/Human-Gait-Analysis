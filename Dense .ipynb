{
 "cells": [
  {
   "cell_type": "code",
   "execution_count": 2,
   "metadata": {},
   "outputs": [],
   "source": [
    "from sklearn.metrics import classification_report, confusion_matrix\n",
    "from sklearn.svm import SVC\n",
    "from sklearn.model_selection import train_test_split\n",
    "import pandas as pd\n",
    "import numpy as np\n",
    "import matplotlib.pyplot as plt"
   ]
  },
  {
   "cell_type": "code",
   "execution_count": 3,
   "metadata": {},
   "outputs": [],
   "source": [
    "gait = pd.read_csv(\"gaitFull.csv\")"
   ]
  },
  {
   "cell_type": "code",
   "execution_count": 4,
   "metadata": {},
   "outputs": [],
   "source": [
    "X = gait.drop('label',  axis=1)\n",
    "y = gait['label']"
   ]
  },
  {
   "cell_type": "code",
   "execution_count": 25,
   "metadata": {},
   "outputs": [],
   "source": [
    "X_train, X_test, y_train, y_test = train_test_split(X, y, test_size=0.20,random_state=42)"
   ]
  },
  {
   "cell_type": "code",
   "execution_count": 26,
   "metadata": {},
   "outputs": [],
   "source": [
    "X_train=np.array(X_train)\n",
    "X_test=np.array(X_test)\n",
    "y_train=np.array(y_train)\n",
    "y_test=np.array(y_test)"
   ]
  },
  {
   "cell_type": "code",
   "execution_count": null,
   "metadata": {},
   "outputs": [],
   "source": []
  },
  {
   "cell_type": "code",
   "execution_count": null,
   "metadata": {},
   "outputs": [],
   "source": []
  },
  {
   "cell_type": "markdown",
   "metadata": {},
   "source": [
    "y_train=list(moving_window(y_train, 1))\n",
    "y_train=np.asarray(y_train)\n",
    "print(y_train.shape)"
   ]
  },
  {
   "cell_type": "code",
   "execution_count": 27,
   "metadata": {},
   "outputs": [],
   "source": [
    "from keras.utils import to_categorical\n",
    "y_train = to_categorical(y_train)\n",
    "test=y_test\n",
    "y_test = to_categorical(y_test)"
   ]
  },
  {
   "cell_type": "code",
   "execution_count": 28,
   "metadata": {},
   "outputs": [],
   "source": [
    "def gen_train(data_array):\n",
    "    seq_length=10\n",
    "    num_elements = data_array.shape[0]\n",
    "    lstm_array=[]\n",
    "    for start, stop in zip(range(0, num_elements-seq_length), range(seq_length, num_elements)):\n",
    "            lstm_array.append(data_array[start:stop, :])\n",
    "    return np.array(lstm_array)\n",
    "X_train=gen_train(X_train)\n",
    "X_test=gen_train(X_test)"
   ]
  },
  {
   "cell_type": "code",
   "execution_count": 29,
   "metadata": {},
   "outputs": [
    {
     "name": "stdout",
     "output_type": "stream",
     "text": [
      "(1890, 10, 11)\n",
      "(466, 10, 11)\n"
     ]
    }
   ],
   "source": [
    "print(X_train.shape)\n",
    "print(X_test.shape)"
   ]
  },
  {
   "cell_type": "code",
   "execution_count": 31,
   "metadata": {},
   "outputs": [],
   "source": [
    "X_train=X_train.reshape((1890,11,10))\n",
    "X_test=X_test.reshape((466,11,10))"
   ]
  },
  {
   "cell_type": "code",
   "execution_count": null,
   "metadata": {},
   "outputs": [],
   "source": []
  },
  {
   "cell_type": "code",
   "execution_count": 32,
   "metadata": {},
   "outputs": [],
   "source": [
    "def gen_label(data_array):    \n",
    "    seq_length=10\n",
    "    num_elements = data_array.shape[0]\n",
    "    y_label=[]\n",
    "    for start, stop in zip(range(0, num_elements-seq_length), range(seq_length, num_elements)):\n",
    "        y_label.append(data_array[stop])\n",
    "    return np.array(y_label)\n",
    "y_train=gen_label(y_train)\n",
    "y_test=gen_label(y_test)\n",
    "test=gen_label(test)"
   ]
  },
  {
   "cell_type": "code",
   "execution_count": 33,
   "metadata": {},
   "outputs": [],
   "source": [
    "from keras.models import Sequential\n",
    "from keras.layers import Dense, Dropout , BatchNormalization, LSTM,Conv1D\n",
    "from sklearn.model_selection import train_test_split\n",
    "from keras.utils import np_utils\n",
    "from keras.optimizers import RMSprop, Adam"
   ]
  },
  {
   "cell_type": "code",
   "execution_count": 34,
   "metadata": {},
   "outputs": [
    {
     "name": "stdout",
     "output_type": "stream",
     "text": [
      "Model: \"sequential_2\"\n",
      "_________________________________________________________________\n",
      "Layer (type)                 Output Shape              Param #   \n",
      "=================================================================\n",
      "lstm_2 (LSTM)                (None, 64)                19200     \n",
      "_________________________________________________________________\n",
      "dense_7 (Dense)              (None, 64)                4160      \n",
      "_________________________________________________________________\n",
      "dense_8 (Dense)              (None, 64)                4160      \n",
      "_________________________________________________________________\n",
      "batch_normalization_2 (Batch (None, 64)                256       \n",
      "_________________________________________________________________\n",
      "dense_9 (Dense)              (None, 128)               8320      \n",
      "_________________________________________________________________\n",
      "dense_10 (Dense)             (None, 196)               25284     \n",
      "_________________________________________________________________\n",
      "dense_11 (Dense)             (None, 32)                6304      \n",
      "_________________________________________________________________\n",
      "dense_12 (Dense)             (None, 8)                 264       \n",
      "=================================================================\n",
      "Total params: 67,948\n",
      "Trainable params: 67,820\n",
      "Non-trainable params: 128\n",
      "_________________________________________________________________\n",
      "None\n"
     ]
    }
   ],
   "source": [
    "model = Sequential()\n",
    "n_timesteps, n_features, n_outputs = X_train.shape[1], X_train.shape[2], y_train.shape[1]\n",
    "model.add(LSTM(64,activation='relu',input_shape=(n_timesteps, n_features)))\n",
    "model.add(Dense(64, input_dim=X_train.shape[1] , activation='relu'))\n",
    "model.add(Dense(64, activation='relu'))\n",
    "model.add(BatchNormalization())\n",
    "model.add(Dense(128, activation='relu'))\n",
    "model.add(Dense(196, activation='relu'))\n",
    "model.add(Dense(32, activation='relu'))\n",
    "model.add(Dense(8, activation='sigmoid'))\n",
    "\n",
    "model.compile(optimizer = Adam(lr = 0.0005),loss='categorical_crossentropy', metrics=['accuracy'])\n",
    "print(model.summary())"
   ]
  },
  {
   "cell_type": "code",
   "execution_count": 35,
   "metadata": {},
   "outputs": [
    {
     "name": "stderr",
     "output_type": "stream",
     "text": [
      "/Users/adithya/opt/anaconda3/lib/python3.7/site-packages/keras/callbacks/callbacks.py:998: UserWarning: `epsilon` argument is deprecated and will be removed, use `min_delta` instead.\n",
      "  warnings.warn('`epsilon` argument is deprecated and '\n"
     ]
    }
   ],
   "source": [
    "filepath=\"HAR_weights.hdf5\"\n",
    "from keras.callbacks import ReduceLROnPlateau , ModelCheckpoint\n",
    "\n",
    "lr_reduce = ReduceLROnPlateau(monitor='val_acc', factor=0.1, epsilon=0.0001, patience=1, verbose=1)\n",
    "checkpoint = ModelCheckpoint(filepath, monitor='val_acc', verbose=1, save_best_only=True, mode='max')"
   ]
  },
  {
   "cell_type": "code",
   "execution_count": 36,
   "metadata": {},
   "outputs": [
    {
     "name": "stdout",
     "output_type": "stream",
     "text": [
      "Train on 1890 samples, validate on 466 samples\n",
      "Epoch 1/30\n",
      "1890/1890 [==============================] - 1s 463us/step - loss: 2.0841 - accuracy: 0.1317 - val_loss: 2.1296 - val_accuracy: 0.1459\n",
      "Epoch 2/30\n",
      "1890/1890 [==============================] - 0s 70us/step - loss: 2.0619 - accuracy: 0.1704 - val_loss: 2.1421 - val_accuracy: 0.1567\n",
      "Epoch 3/30\n",
      " 256/1890 [===>..........................] - ETA: 0s - loss: 2.0533 - accuracy: 0.1367"
     ]
    },
    {
     "name": "stderr",
     "output_type": "stream",
     "text": [
      "/Users/adithya/opt/anaconda3/lib/python3.7/site-packages/keras/callbacks/callbacks.py:707: RuntimeWarning: Can save best model only with val_acc available, skipping.\n",
      "  'skipping.' % (self.monitor), RuntimeWarning)\n",
      "/Users/adithya/opt/anaconda3/lib/python3.7/site-packages/keras/callbacks/callbacks.py:1042: RuntimeWarning: Reduce LR on plateau conditioned on metric `val_acc` which is not available. Available metrics are: val_loss,val_accuracy,loss,accuracy,lr\n",
      "  (self.monitor, ','.join(list(logs.keys()))), RuntimeWarning\n"
     ]
    },
    {
     "name": "stdout",
     "output_type": "stream",
     "text": [
      "1890/1890 [==============================] - 0s 71us/step - loss: 2.0517 - accuracy: 0.1630 - val_loss: 2.1456 - val_accuracy: 0.1524\n",
      "Epoch 4/30\n",
      "1890/1890 [==============================] - 0s 70us/step - loss: 2.0438 - accuracy: 0.1720 - val_loss: 2.1443 - val_accuracy: 0.1373\n",
      "Epoch 5/30\n",
      "1890/1890 [==============================] - 0s 71us/step - loss: 2.0334 - accuracy: 0.1762 - val_loss: 2.1430 - val_accuracy: 0.1330\n",
      "Epoch 6/30\n",
      "1890/1890 [==============================] - 0s 68us/step - loss: 2.0243 - accuracy: 0.1857 - val_loss: 2.1310 - val_accuracy: 0.1202\n",
      "Epoch 7/30\n",
      "1890/1890 [==============================] - 0s 68us/step - loss: 2.0171 - accuracy: 0.1926 - val_loss: 2.1459 - val_accuracy: 0.1245\n",
      "Epoch 8/30\n",
      "1890/1890 [==============================] - 0s 70us/step - loss: 2.0047 - accuracy: 0.1984 - val_loss: 2.1432 - val_accuracy: 0.1180\n",
      "Epoch 9/30\n",
      "1890/1890 [==============================] - 0s 69us/step - loss: 1.9926 - accuracy: 0.2026 - val_loss: 2.1471 - val_accuracy: 0.1245\n",
      "Epoch 10/30\n",
      "1890/1890 [==============================] - 0s 68us/step - loss: 1.9794 - accuracy: 0.2079 - val_loss: 2.1465 - val_accuracy: 0.1266\n",
      "Epoch 11/30\n",
      "1890/1890 [==============================] - 0s 71us/step - loss: 1.9651 - accuracy: 0.2265 - val_loss: 2.1638 - val_accuracy: 0.1330\n",
      "Epoch 12/30\n",
      "1890/1890 [==============================] - 0s 73us/step - loss: 1.9499 - accuracy: 0.2376 - val_loss: 2.1598 - val_accuracy: 0.1309\n",
      "Epoch 13/30\n",
      "1890/1890 [==============================] - 0s 71us/step - loss: 1.9346 - accuracy: 0.2381 - val_loss: 2.1650 - val_accuracy: 0.1352\n",
      "Epoch 14/30\n",
      "1890/1890 [==============================] - 0s 67us/step - loss: 1.9108 - accuracy: 0.2683 - val_loss: 2.1795 - val_accuracy: 0.1288\n",
      "Epoch 15/30\n",
      "1890/1890 [==============================] - 0s 73us/step - loss: 1.8850 - accuracy: 0.2810 - val_loss: 2.2042 - val_accuracy: 0.1309\n",
      "Epoch 16/30\n",
      "1890/1890 [==============================] - 0s 72us/step - loss: 1.8704 - accuracy: 0.2873 - val_loss: 2.2106 - val_accuracy: 0.1202\n",
      "Epoch 17/30\n",
      "1890/1890 [==============================] - 0s 69us/step - loss: 1.8334 - accuracy: 0.3048 - val_loss: 2.2330 - val_accuracy: 0.1309\n",
      "Epoch 18/30\n",
      "1890/1890 [==============================] - 0s 66us/step - loss: 1.8205 - accuracy: 0.3021 - val_loss: 2.2167 - val_accuracy: 0.1223\n",
      "Epoch 19/30\n",
      "1890/1890 [==============================] - 0s 69us/step - loss: 1.7943 - accuracy: 0.3190 - val_loss: 2.2905 - val_accuracy: 0.1180\n",
      "Epoch 20/30\n",
      "1890/1890 [==============================] - 0s 70us/step - loss: 1.7490 - accuracy: 0.3434 - val_loss: 2.3064 - val_accuracy: 0.1159\n",
      "Epoch 21/30\n",
      "1890/1890 [==============================] - 0s 69us/step - loss: 1.7288 - accuracy: 0.3481 - val_loss: 2.3128 - val_accuracy: 0.1416\n",
      "Epoch 22/30\n",
      "1890/1890 [==============================] - 0s 73us/step - loss: 1.6939 - accuracy: 0.3651 - val_loss: 2.3169 - val_accuracy: 0.1137\n",
      "Epoch 23/30\n",
      "1890/1890 [==============================] - 0s 70us/step - loss: 1.6450 - accuracy: 0.3963 - val_loss: 2.3243 - val_accuracy: 0.1266\n",
      "Epoch 24/30\n",
      "1890/1890 [==============================] - 0s 69us/step - loss: 1.6133 - accuracy: 0.4037 - val_loss: 2.3735 - val_accuracy: 0.1180\n",
      "Epoch 25/30\n",
      "1890/1890 [==============================] - 0s 69us/step - loss: 1.5742 - accuracy: 0.4122 - val_loss: 2.3646 - val_accuracy: 0.1202\n",
      "Epoch 26/30\n",
      "1890/1890 [==============================] - 0s 68us/step - loss: 1.5459 - accuracy: 0.4407 - val_loss: 2.4345 - val_accuracy: 0.1288\n",
      "Epoch 27/30\n",
      "1890/1890 [==============================] - 0s 71us/step - loss: 1.5203 - accuracy: 0.4402 - val_loss: 2.4720 - val_accuracy: 0.1180\n",
      "Epoch 28/30\n",
      "1890/1890 [==============================] - 0s 71us/step - loss: 1.4822 - accuracy: 0.4667 - val_loss: 2.4921 - val_accuracy: 0.1223\n",
      "Epoch 29/30\n",
      "1890/1890 [==============================] - 0s 74us/step - loss: 1.4435 - accuracy: 0.4889 - val_loss: 2.5280 - val_accuracy: 0.1202\n",
      "Epoch 30/30\n",
      "1890/1890 [==============================] - 0s 68us/step - loss: 1.4049 - accuracy: 0.4931 - val_loss: 2.5694 - val_accuracy: 0.1202\n"
     ]
    }
   ],
   "source": [
    "history = model.fit(X_train, y_train , epochs=30 , batch_size = 256 , validation_data=(X_test, y_test) , callbacks=[checkpoint,lr_reduce])"
   ]
  },
  {
   "cell_type": "code",
   "execution_count": 37,
   "metadata": {},
   "outputs": [
    {
     "data": {
      "image/png": "[encoded data removed]",
      "text/plain": [
       "<Figure size 432x288 with 1 Axes>"
      ]
     },
     "metadata": {
      "needs_background": "light"
     },
     "output_type": "display_data"
    }
   ],
   "source": [
    "from pylab import rcParams\n",
    "# summarize history for loss\n",
    "plt.plot(history.history['loss'])\n",
    "plt.plot(history.history['val_loss'])\n",
    "plt.title('model loss')\n",
    "plt.ylabel('loss')\n",
    "plt.xlabel('epoch')\n",
    "plt.legend(['train', 'test'], loc='upper left')\n",
    "plt.show()"
   ]
  },
  {
   "cell_type": "code",
   "execution_count": 20,
   "metadata": {},
   "outputs": [],
   "source": [
    "from sklearn.metrics import confusion_matrix\n",
    "pred = model.predict(X_test)\n",
    "pred = np.argmax(pred,axis = 1) \n",
    "y_true = np.argmax(y_test,axis = 1)"
   ]
  },
  {
   "cell_type": "code",
   "execution_count": 21,
   "metadata": {},
   "outputs": [
    {
     "data": {
      "text/plain": [
       "array([[40,  3,  2,  0,  0,  0,  0,  0],\n",
       "       [38,  1,  0,  0,  0,  0,  1,  0],\n",
       "       [47,  0,  0,  0,  0,  0,  1,  0],\n",
       "       [43,  1,  1,  0,  0,  0,  3,  0],\n",
       "       [47,  1,  2,  0,  0,  0,  2,  0],\n",
       "       [39,  0,  0,  0,  0,  0,  0,  0],\n",
       "       [56,  1,  1,  0,  0,  0,  2,  0],\n",
       "       [41,  0,  1,  0,  0,  0,  2,  0]])"
      ]
     },
     "execution_count": 21,
     "metadata": {},
     "output_type": "execute_result"
    }
   ],
   "source": [
    "confusion_matrix(y_true, pred)"
   ]
  },
  {
   "cell_type": "code",
   "execution_count": 22,
   "metadata": {},
   "outputs": [
    {
     "name": "stdout",
     "output_type": "stream",
     "text": [
      "              precision    recall  f1-score   support\n",
      "\n",
      "           0       0.11      0.89      0.20        45\n",
      "           1       0.14      0.03      0.04        40\n",
      "           2       0.00      0.00      0.00        48\n",
      "           3       0.00      0.00      0.00        48\n",
      "           4       0.00      0.00      0.00        52\n",
      "           5       0.00      0.00      0.00        39\n",
      "           6       0.18      0.03      0.06        60\n",
      "           7       0.00      0.00      0.00        44\n",
      "\n",
      "    accuracy                           0.11       376\n",
      "   macro avg       0.05      0.12      0.04       376\n",
      "weighted avg       0.06      0.11      0.04       376\n",
      "\n"
     ]
    },
    {
     "name": "stderr",
     "output_type": "stream",
     "text": [
      "/Users/adithya/opt/anaconda3/lib/python3.7/site-packages/sklearn/metrics/classification.py:1437: UndefinedMetricWarning: Precision and F-score are ill-defined and being set to 0.0 in labels with no predicted samples.\n",
      "  'precision', 'predicted', average, warn_for)\n"
     ]
    }
   ],
   "source": [
    "from sklearn.metrics import classification_report , accuracy_score\n",
    "print(classification_report(y_true, pred))"
   ]
  },
  {
   "cell_type": "code",
   "execution_count": 33,
   "metadata": {},
   "outputs": [
    {
     "name": "stdout",
     "output_type": "stream",
     "text": [
      "Model: \"sequential_5\"\n",
      "_________________________________________________________________\n",
      "Layer (type)                 Output Shape              Param #   \n",
      "=================================================================\n",
      "lstm_6 (LSTM)                (None, 100, 100)          44800     \n",
      "_________________________________________________________________\n",
      "dropout_4 (Dropout)          (None, 100, 100)          0         \n",
      "_________________________________________________________________\n",
      "lstm_7 (LSTM)                (None, 50)                30200     \n",
      "_________________________________________________________________\n",
      "dense_18 (Dense)             (None, 64)                3264      \n",
      "_________________________________________________________________\n",
      "batch_normalization_4 (Batch (None, 64)                256       \n",
      "_________________________________________________________________\n",
      "dense_19 (Dense)             (None, 128)               8320      \n",
      "_________________________________________________________________\n",
      "dense_20 (Dense)             (None, 196)               25284     \n",
      "_________________________________________________________________\n",
      "dense_21 (Dense)             (None, 32)                6304      \n",
      "_________________________________________________________________\n",
      "dense_22 (Dense)             (None, 8)                 264       \n",
      "_________________________________________________________________\n",
      "dense_23 (Dense)             (None, 8)                 72        \n",
      "=================================================================\n",
      "Total params: 118,764\n",
      "Trainable params: 118,636\n",
      "Non-trainable params: 128\n",
      "_________________________________________________________________\n"
     ]
    }
   ],
   "source": [
    "model = Sequential()\n",
    "n_timesteps, n_features, n_outputs = X_train.shape[1], X_train.shape[2], y_train.shape[1]\n",
    "model.add(LSTM(\n",
    "         input_shape=(n_timesteps, n_features),\n",
    "         units=100,\n",
    "         return_sequences=True))\n",
    "model.add(Dropout(0.2))\n",
    "model.add(LSTM(\n",
    "         input_shape=(n_timesteps, n_features),\n",
    "         units=50,\n",
    "         return_sequences=False))\n",
    "\n",
    "model.add(Dense(64, activation='relu'))\n",
    "model.add(BatchNormalization())\n",
    "model.add(Dense(128, activation='relu'))\n",
    "model.add(Dense(196, activation='relu'))\n",
    "model.add(Dense(32, activation='relu'))\n",
    "model.add(Dense(8, activation='sigmoid'))\n",
    "\n",
    "\n",
    "model.add(Dense(units=8, activation='sigmoid'))\n",
    "model.compile(loss='categorical_crossentropy', optimizer='adam', metrics=['accuracy'])\n",
    "\n",
    "model.summary()\n"
   ]
  },
  {
   "cell_type": "code",
   "execution_count": 51,
   "metadata": {},
   "outputs": [
    {
     "name": "stdout",
     "output_type": "stream",
     "text": [
      "Train on 1805 samples, validate on 95 samples\n",
      "Epoch 1/35\n",
      "1805/1805 [==============================] - 0s 232us/step - loss: 2.0105 - accuracy: 0.2366 - val_loss: 3.6136 - val_accuracy: 0.0947\n",
      "Epoch 2/35\n",
      "1805/1805 [==============================] - 0s 19us/step - loss: 1.9234 - accuracy: 0.2975 - val_loss: 3.6884 - val_accuracy: 0.0947\n",
      "Epoch 3/35\n",
      "1805/1805 [==============================] - 0s 15us/step - loss: 1.8578 - accuracy: 0.2510 - val_loss: 3.4021 - val_accuracy: 0.0947\n",
      "Epoch 4/35\n",
      "1805/1805 [==============================] - 0s 17us/step - loss: 1.8127 - accuracy: 0.2626 - val_loss: 3.0284 - val_accuracy: 0.0947\n",
      "Epoch 5/35\n",
      "1805/1805 [==============================] - 0s 15us/step - loss: 1.7802 - accuracy: 0.2864 - val_loss: 2.6221 - val_accuracy: 0.0947\n",
      "Epoch 6/35\n",
      "1805/1805 [==============================] - 0s 14us/step - loss: 1.7730 - accuracy: 0.3030 - val_loss: 2.2872 - val_accuracy: 0.1158\n",
      "Epoch 7/35\n",
      "1805/1805 [==============================] - 0s 13us/step - loss: 1.7630 - accuracy: 0.3191 - val_loss: 2.0818 - val_accuracy: 0.1368\n",
      "Epoch 8/35\n",
      "1805/1805 [==============================] - 0s 14us/step - loss: 1.7403 - accuracy: 0.3690 - val_loss: 1.9492 - val_accuracy: 0.1895\n",
      "Epoch 9/35\n",
      "1805/1805 [==============================] - 0s 14us/step - loss: 1.7349 - accuracy: 0.3723 - val_loss: 1.8563 - val_accuracy: 0.3158\n",
      "Epoch 10/35\n",
      "1805/1805 [==============================] - 0s 14us/step - loss: 1.7097 - accuracy: 0.3634 - val_loss: 1.8510 - val_accuracy: 0.3684\n",
      "Epoch 11/35\n",
      "1805/1805 [==============================] - 0s 13us/step - loss: 1.6938 - accuracy: 0.3729 - val_loss: 1.8090 - val_accuracy: 0.4000\n",
      "Epoch 12/35\n",
      "1805/1805 [==============================] - 0s 13us/step - loss: 1.6692 - accuracy: 0.3839 - val_loss: 1.7909 - val_accuracy: 0.3263\n",
      "Epoch 13/35\n",
      "1805/1805 [==============================] - 0s 12us/step - loss: 1.6598 - accuracy: 0.4144 - val_loss: 1.7515 - val_accuracy: 0.3158\n",
      "Epoch 14/35\n",
      "1805/1805 [==============================] - 0s 13us/step - loss: 1.6319 - accuracy: 0.4277 - val_loss: 1.7552 - val_accuracy: 0.2842\n",
      "Epoch 15/35\n",
      "1805/1805 [==============================] - 0s 13us/step - loss: 1.6114 - accuracy: 0.4072 - val_loss: 1.7443 - val_accuracy: 0.3579\n",
      "Epoch 16/35\n",
      "1805/1805 [==============================] - 0s 13us/step - loss: 1.6195 - accuracy: 0.4166 - val_loss: 1.7201 - val_accuracy: 0.3263\n",
      "Epoch 17/35\n",
      "1805/1805 [==============================] - 0s 12us/step - loss: 1.6187 - accuracy: 0.4199 - val_loss: 1.7818 - val_accuracy: 0.2947\n",
      "Epoch 18/35\n",
      "1805/1805 [==============================] - 0s 12us/step - loss: 1.6086 - accuracy: 0.4316 - val_loss: 1.7446 - val_accuracy: 0.3053\n",
      "Epoch 19/35\n",
      "1805/1805 [==============================] - 0s 12us/step - loss: 1.5877 - accuracy: 0.4504 - val_loss: 1.8095 - val_accuracy: 0.2737\n",
      "Epoch 20/35\n",
      "1805/1805 [==============================] - 0s 13us/step - loss: 1.5784 - accuracy: 0.4349 - val_loss: 1.7821 - val_accuracy: 0.3368\n",
      "Epoch 21/35\n",
      "1805/1805 [==============================] - 0s 12us/step - loss: 1.5647 - accuracy: 0.4521 - val_loss: 1.6566 - val_accuracy: 0.4526\n",
      "Epoch 22/35\n",
      "1805/1805 [==============================] - 0s 13us/step - loss: 1.5588 - accuracy: 0.4510 - val_loss: 1.8055 - val_accuracy: 0.2947\n",
      "Epoch 23/35\n",
      "1805/1805 [==============================] - 0s 13us/step - loss: 1.5801 - accuracy: 0.4255 - val_loss: 1.8673 - val_accuracy: 0.2105\n",
      "Epoch 24/35\n",
      "1805/1805 [==============================] - 0s 13us/step - loss: 1.5270 - accuracy: 0.4620 - val_loss: 1.7787 - val_accuracy: 0.2947\n",
      "Epoch 25/35\n",
      "1805/1805 [==============================] - 0s 12us/step - loss: 1.5332 - accuracy: 0.4421 - val_loss: 1.7217 - val_accuracy: 0.3368\n",
      "Epoch 26/35\n",
      "1805/1805 [==============================] - 0s 12us/step - loss: 1.5613 - accuracy: 0.4321 - val_loss: 1.7494 - val_accuracy: 0.3789\n",
      "Epoch 27/35\n",
      "1805/1805 [==============================] - 0s 12us/step - loss: 1.5182 - accuracy: 0.4532 - val_loss: 1.6322 - val_accuracy: 0.3053\n",
      "Epoch 28/35\n",
      "1805/1805 [==============================] - 0s 12us/step - loss: 1.4934 - accuracy: 0.4753 - val_loss: 1.6596 - val_accuracy: 0.2737\n",
      "Epoch 29/35\n",
      "1805/1805 [==============================] - 0s 12us/step - loss: 1.4894 - accuracy: 0.4582 - val_loss: 1.6563 - val_accuracy: 0.2947\n",
      "Epoch 30/35\n",
      "1805/1805 [==============================] - 0s 12us/step - loss: 1.4928 - accuracy: 0.4532 - val_loss: 1.5589 - val_accuracy: 0.3579\n",
      "Epoch 31/35\n",
      "1805/1805 [==============================] - 0s 12us/step - loss: 1.4842 - accuracy: 0.4554 - val_loss: 1.6561 - val_accuracy: 0.3368\n",
      "Epoch 32/35\n",
      "1805/1805 [==============================] - 0s 13us/step - loss: 1.4617 - accuracy: 0.4582 - val_loss: 1.5528 - val_accuracy: 0.4105\n",
      "Epoch 33/35\n",
      "1805/1805 [==============================] - 0s 12us/step - loss: 1.4805 - accuracy: 0.4526 - val_loss: 1.6126 - val_accuracy: 0.3579\n",
      "Epoch 34/35\n",
      "1805/1805 [==============================] - 0s 12us/step - loss: 1.4684 - accuracy: 0.4681 - val_loss: 1.5459 - val_accuracy: 0.3789\n",
      "Epoch 35/35\n",
      "1805/1805 [==============================] - 0s 13us/step - loss: 1.4535 - accuracy: 0.4748 - val_loss: 1.6008 - val_accuracy: 0.3053\n"
     ]
    }
   ],
   "source": [
    "# fit the network\n",
    "history=model.fit(X_train, y_train, epochs=35, batch_size=200, validation_split=0.05, verbose=1)"
   ]
  },
  {
   "cell_type": "code",
   "execution_count": 52,
   "metadata": {},
   "outputs": [
    {
     "name": "stdout",
     "output_type": "stream",
     "text": [
      "1900/1900 [==============================] - 0s 7us/step\n",
      "Accurracy: 0.3484210669994354\n"
     ]
    }
   ],
   "source": [
    "scores = model.evaluate(X_train, y_train, verbose=1, batch_size=200)\n",
    "print('Accurracy: {}'.format(scores[1]))"
   ]
  },
  {
   "cell_type": "code",
   "execution_count": 53,
   "metadata": {},
   "outputs": [
    {
     "name": "stdout",
     "output_type": "stream",
     "text": [
      "Accuracy of model on test data:  0.28361344537815125\n",
      "Confusion Matrix: \n",
      " [[39  2  3  0  0  2  3  4]\n",
      " [25 10 12  0  0  1  1  1]\n",
      " [15 12 34  0  0  1  4  0]\n",
      " [22  1 12  0  1  7  6 10]\n",
      " [14  1  5  0  2 43  1  4]\n",
      " [17  2  4  0  0 18  8  2]\n",
      " [13  0 17  0  0  3 28 10]\n",
      " [31  0  9  0  0  4  8  4]]\n"
     ]
    }
   ],
   "source": [
    "from sklearn.metrics import confusion_matrix\n",
    "y_pred=model.predict_classes(X_test)\n",
    "print('Accuracy of model on test data: ',accuracy_score(test,y_pred))\n",
    "print('Confusion Matrix: \\n',confusion_matrix(test,y_pred))"
   ]
  },
  {
   "cell_type": "code",
   "execution_count": 37,
   "metadata": {},
   "outputs": [
    {
     "data": {
      "text/plain": [
       "(array([0, 1, 2, 3, 4, 5, 6, 7]), array([45, 40, 48, 48, 52, 39, 60, 44]))"
      ]
     },
     "execution_count": 37,
     "metadata": {},
     "output_type": "execute_result"
    }
   ],
   "source": [
    "np.unique(test,return_counts=True)"
   ]
  },
  {
   "cell_type": "code",
   "execution_count": null,
   "metadata": {},
   "outputs": [],
   "source": [
    "X_test.shape"
   ]
  },
  {
   "cell_type": "code",
   "execution_count": null,
   "metadata": {},
   "outputs": [],
   "source": []
  }
 ],
 "metadata": {
  "kernelspec": {
   "display_name": "Python 3",
   "language": "python",
   "name": "python3"
  },
  "language_info": {
   "codemirror_mode": {
    "name": "ipython",
    "version": 3
   },
   "file_extension": ".py",
   "mimetype": "text/x-python",
   "name": "python",
   "nbconvert_exporter": "python",
   "pygments_lexer": "ipython3",
   "version": "3.7.4"
  }
 },
 "nbformat": 4,
 "nbformat_minor": 2
}
